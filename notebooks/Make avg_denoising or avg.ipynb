{
 "cells": [
  {
   "cell_type": "code",
   "execution_count": 1,
   "id": "64d0d501",
   "metadata": {},
   "outputs": [],
   "source": [
    "import sys\n",
    "sys.path.append(\"..\")\n",
    "\n",
    "import torch\n",
    "import numpy as np\n",
    "import matplotlib.pyplot as plt\n",
    "from einops import rearrange\n",
    "from tqdm import tqdm, trange\n",
    "from torch.nn import functional as F\n",
    "from utils.download_mnist import mnist_dataloader_test\n",
    "from assembler import get_config, get_config_ebm, make_energy_model\n",
    "from utils.config import show \n",
    "\n",
    "path = !cd .. && pwd\n",
    "path = path[0]\n",
    "\n",
    "def plotable(img):\n",
    "    return rearrange(img, \"b c h w -> (b c h) w \").cpu().detach().numpy()\n",
    "\n",
    "def get_model_config(model_name):\n",
    "    dataset, model, sampling, task = model_name.split(\"/\")\n",
    "    name = f\"{sampling}/{task}\"\n",
    "    config = get_config(get_config_ebm, dataset, model, name, path=path)\n",
    "    return config\n",
    "\n",
    "def reconstruction_error(x_hat, x, reduction=\"mean\"):\n",
    "    return F.mse_loss(x_hat, x, reduction=reduction)"
   ]
  },
  {
   "cell_type": "code",
   "execution_count": 2,
   "id": "cc24df2b",
   "metadata": {},
   "outputs": [
    {
     "name": "stderr",
     "output_type": "stream",
     "text": [
      "/home/mingliang/anaconda3/envs/torch3090/lib/python3.7/site-packages/torchvision/datasets/mnist.py:498: UserWarning: The given NumPy array is not writeable, and PyTorch does not support non-writeable tensors. This means you can write to the underlying (supposedly non-writeable) NumPy array using the tensor. You may want to copy the array to protect its data or make it writeable before converting it to a tensor. This type of warning will be suppressed for the rest of this program. (Triggered internally at  /opt/conda/conda-bld/pytorch_1623448265233/work/torch/csrc/utils/tensor_numpy.cpp:180.)\n",
      "  return torch.from_numpy(parsed.astype(m[2], copy=False)).view(*s)\n"
     ]
    }
   ],
   "source": [
    "model_name = \"mnist/vae/langevin/inpainting\"\n",
    "config = get_model_config(model_name)\n",
    "dm = mnist_dataloader_test(config, path=path)"
   ]
  },
  {
   "cell_type": "code",
   "execution_count": 3,
   "id": "9d1b25aa",
   "metadata": {},
   "outputs": [
    {
     "name": "stdout",
     "output_type": "stream",
     "text": [
      "operator_params\n",
      "    operator: CenterOcclude\n",
      "    size: 13\n",
      "estimator_params\n",
      "    estimator: langevin\n",
      "    burn_in: 0\n",
      "    n_samples: 15\n",
      "    step_size: 0.01\n",
      "    mode: avg\n",
      "    initalisation: posterior\n",
      "    potential: mse\n",
      "base_model_params\n",
      "    model_name: mnist/vae/vanilla\n"
     ]
    }
   ],
   "source": [
    "show(config)"
   ]
  },
  {
   "cell_type": "code",
   "execution_count": 4,
   "id": "b37b7862",
   "metadata": {},
   "outputs": [],
   "source": [
    "config[\"operator_params\"][\"operator\"] = \"CompressedSensing\"\n",
    "config[\"operator_params\"][\"num_measurements\"] = 200"
   ]
  },
  {
   "cell_type": "code",
   "execution_count": 5,
   "id": "f42bfbfc",
   "metadata": {},
   "outputs": [],
   "source": [
    "config[\"estimator_params\"][\"initalisation\"] = \"random\"\n",
    "config[\"exp_params\"][\"batch_size\"] = 100\n",
    "config[\"estimator_params\"][\"mode\"] = \"avg\"\n",
    "dm = mnist_dataloader_test(config, path=path)"
   ]
  },
  {
   "cell_type": "code",
   "execution_count": 6,
   "id": "af75c00d",
   "metadata": {},
   "outputs": [
    {
     "name": "stderr",
     "output_type": "stream",
     "text": [
      "100%|██████████| 15/15 [01:20<00:00,  5.37s/it]\n"
     ]
    }
   ],
   "source": [
    "posterior = []\n",
    "error_posterior = []\n",
    "for num in trange(0, 750, 50):\n",
    "    config[\"operator_params\"][\"num_measurements\"] = num\n",
    "    ebm = make_energy_model(config, path=path)\n",
    "    ebm = ebm.to(\"cuda\")\n",
    "    error = []\n",
    "    for x, y in dm:\n",
    "        x = x.to(\"cuda\")\n",
    "        x_tilde = ebm.operator(x)\n",
    "        x_hat = ebm(x_tilde)\n",
    "        error.append(reconstruction_error(x_hat, x))\n",
    "    e_x = (sum(error)/len(error)).cpu().detach()\n",
    "    e_x2 = (sum(map(lambda x: x**2, error))/len(error)).cpu().detach()\n",
    "    std = np.sqrt(e_x2 - (e_x)**2)\n",
    "    posterior.append(e_x)\n",
    "    error_posterior.append(std)"
   ]
  },
  {
   "cell_type": "code",
   "execution_count": 7,
   "id": "1fe500db",
   "metadata": {},
   "outputs": [],
   "source": [
    "config[\"estimator_params\"][\"initalisation\"] = \"random\"\n",
    "config[\"exp_params\"][\"batch_size\"] = 100\n",
    "config[\"estimator_params\"][\"mode\"] = \"denoise_avg\"\n",
    "config[\"estimator_params\"][\"denoise_step_size\"] = 0.1\n",
    "dm = mnist_dataloader_test(config, path=path)"
   ]
  },
  {
   "cell_type": "code",
   "execution_count": 8,
   "id": "ce46c766",
   "metadata": {},
   "outputs": [
    {
     "name": "stderr",
     "output_type": "stream",
     "text": [
      "100%|██████████| 15/15 [01:20<00:00,  5.38s/it]\n"
     ]
    }
   ],
   "source": [
    "denoise_posterior = []\n",
    "error_denoise_posterior = []\n",
    "for num in trange(0, 750, 50):\n",
    "    config[\"operator_params\"][\"num_measurements\"] = num\n",
    "    ebm = make_energy_model(config, path=path)\n",
    "    ebm = ebm.to(\"cuda\")\n",
    "    error = []\n",
    "    for x, y in dm:\n",
    "        x = x.to(\"cuda\")\n",
    "        x_tilde = ebm.operator(x)\n",
    "        x_hat = ebm(x_tilde)\n",
    "        error.append(reconstruction_error(x_hat, x))\n",
    "    e_x = (sum(error)/len(error)).cpu().detach()\n",
    "    e_x2 = (sum(map(lambda x: x**2, error))/len(error)).cpu().detach()\n",
    "    std = np.sqrt(e_x2 - (e_x)**2)\n",
    "    denoise_posterior.append(e_x)\n",
    "    error_denoise_posterior.append(std)"
   ]
  },
  {
   "cell_type": "code",
   "execution_count": 9,
   "id": "edec562d",
   "metadata": {},
   "outputs": [],
   "source": [
    "config[\"estimator_params\"][\"mode\"] = \"last\""
   ]
  },
  {
   "cell_type": "code",
   "execution_count": 10,
   "id": "4631a705",
   "metadata": {},
   "outputs": [
    {
     "name": "stderr",
     "output_type": "stream",
     "text": [
      "100%|██████████| 15/15 [01:20<00:00,  5.40s/it]\n"
     ]
    }
   ],
   "source": [
    "last_posterior = []\n",
    "error_last_posterior = []\n",
    "for num in trange(0, 750, 50):\n",
    "    config[\"operator_params\"][\"num_measurements\"] = num\n",
    "    ebm = make_energy_model(config, path=path)\n",
    "    ebm = ebm.to(\"cuda\")\n",
    "    error = []\n",
    "    for x, y in dm:\n",
    "        x = x.to(\"cuda\")\n",
    "        x_tilde = ebm.operator(x)\n",
    "        x_hat = ebm(x_tilde)\n",
    "        error.append(reconstruction_error(x_hat, x))\n",
    "    e_x = (sum(error)/len(error)).cpu().detach()\n",
    "    e_x2 = (sum(map(lambda x: x**2, error))/len(error)).cpu().detach()\n",
    "    std = np.sqrt(e_x2 - (e_x)**2)\n",
    "    last_posterior.append(e_x)\n",
    "    error_last_posterior.append(std)"
   ]
  },
  {
   "cell_type": "code",
   "execution_count": 11,
   "id": "1b52cb24",
   "metadata": {},
   "outputs": [],
   "source": [
    "config[\"estimator_params\"][\"mode\"] = \"denoise_last\"\n",
    "config[\"estimator_params\"][\"denoise_step_size\"] = 0.1"
   ]
  },
  {
   "cell_type": "code",
   "execution_count": 12,
   "id": "6223eff4",
   "metadata": {},
   "outputs": [
    {
     "name": "stderr",
     "output_type": "stream",
     "text": [
      "100%|██████████| 15/15 [01:24<00:00,  5.60s/it]\n"
     ]
    }
   ],
   "source": [
    "denoise_last_posterior = []\n",
    "error_denoise_last_posterior = []\n",
    "for num in trange(0, 750, 50):\n",
    "    config[\"operator_params\"][\"num_measurements\"] = num\n",
    "    ebm = make_energy_model(config, path=path)\n",
    "    ebm = ebm.to(\"cuda\")\n",
    "    error = []\n",
    "    for x, y in dm:\n",
    "        x = x.to(\"cuda\")\n",
    "        x_tilde = ebm.operator(x)\n",
    "        x_hat = ebm(x_tilde)\n",
    "        error.append(reconstruction_error(x_hat, x))\n",
    "    e_x = (sum(error)/len(error)).cpu().detach()\n",
    "    e_x2 = (sum(map(lambda x: x**2, error))/len(error)).cpu().detach()\n",
    "    std = np.sqrt(e_x2 - (e_x)**2)\n",
    "    denoise_last_posterior.append(e_x)\n",
    "    error_denoise_last_posterior.append(std)"
   ]
  },
  {
   "cell_type": "code",
   "execution_count": 13,
   "id": "ede1a31c",
   "metadata": {},
   "outputs": [],
   "source": [
    "error = []\n",
    "for x, y in dm:\n",
    "    x = x.to(\"cuda\")\n",
    "    error.append(reconstruction_error(torch.zeros_like(x), x))\n",
    "baseline = (sum(error)/len(error)).cpu().detach()"
   ]
  },
  {
   "cell_type": "code",
   "execution_count": 16,
   "id": "6ae2b75e",
   "metadata": {},
   "outputs": [
    {
     "data": {
      "image/png": "[encoded data removed]",
      "text/plain": [
       "<Figure size 432x288 with 1 Axes>"
      ]
     },
     "metadata": {
      "needs_background": "light"
     },
     "output_type": "display_data"
    }
   ],
   "source": [
    "plt.xlabel('Number of measurements', fontsize=15)\n",
    "plt.ylabel('Reconstruction error (per pixel)', fontsize=15)\n",
    "plt.ylim(0, 0.15)\n",
    "plt.plot(list(range(0, 750, 50)), [baseline]*15)\n",
    "plt.errorbar(list(range(0, 750, 50)), posterior, yerr=error_posterior, fmt='-o')\n",
    "plt.errorbar(list(range(0, 750, 50)), denoise_last_posterior, yerr=error_denoise_last_posterior , fmt='-s')\n",
    "plt.legend(['baseline (zero estimate)','no denoising', 'denoising'])\n",
    "plt.show()"
   ]
  },
  {
   "cell_type": "code",
   "execution_count": 15,
   "id": "b6f9b5b4",
   "metadata": {},
   "outputs": [
    {
     "data": {
      "image/png": "[encoded data removed]",
      "text/plain": [
       "<Figure size 432x288 with 1 Axes>"
      ]
     },
     "metadata": {
      "needs_background": "light"
     },
     "output_type": "display_data"
    }
   ],
   "source": [
    "plt.xlabel('Number of measurements', fontsize=15)\n",
    "plt.ylabel('Reconstruction error (per pixel)', fontsize=15)\n",
    "plt.ylim(0, 0.15)\n",
    "plt.plot(list(range(0, 750, 50)), [baseline]*15)\n",
    "plt.errorbar(list(range(0, 750, 50)), posterior, yerr=error_posterior, fmt='-o')\n",
    "plt.errorbar(list(range(0, 750, 50)), last_posterior, yerr=error_last_posterior , fmt='-s')\n",
    "plt.errorbar(list(range(0, 750, 50)), denoise_posterior, yerr=error_denoise_posterior , fmt='-s')\n",
    "plt.errorbar(list(range(0, 750, 50)), denoise_last_posterior, yerr=error_denoise_last_posterior , fmt='-s')\n",
    "plt.legend(['baseline (zero estimate)','avg', 'last', 'denoising', 'denoise last'])\n",
    "plt.show()"
   ]
  },
  {
   "cell_type": "code",
   "execution_count": null,
   "id": "060393f2",
   "metadata": {},
   "outputs": [],
   "source": []
  },
  {
   "cell_type": "markdown",
   "id": "77be878c",
   "metadata": {},
   "source": [
    "## Denoising"
   ]
  },
  {
   "cell_type": "code",
   "execution_count": null,
   "id": "334b7b6a",
   "metadata": {},
   "outputs": [],
   "source": []
  }
 ],
 "metadata": {
  "kernelspec": {
   "display_name": "dgflowenv",
   "language": "python",
   "name": "dgflowenv"
  },
  "language_info": {
   "codemirror_mode": {
    "name": "ipython",
    "version": 3
   },
   "file_extension": ".py",
   "mimetype": "text/x-python",
   "name": "python",
   "nbconvert_exporter": "python",
   "pygments_lexer": "ipython3",
   "version": "3.7.10"
  }
 },
 "nbformat": 4,
 "nbformat_minor": 5
}
