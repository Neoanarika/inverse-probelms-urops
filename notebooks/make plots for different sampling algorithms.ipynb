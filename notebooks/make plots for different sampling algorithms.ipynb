{
 "cells": [
  {
   "cell_type": "markdown",
   "source": [
    "# Import packages and defining helper function"
   ],
   "metadata": {}
  },
  {
   "cell_type": "code",
   "execution_count": 1,
   "source": [
    "import sys\n",
    "sys.path.append(\"..\")\n",
    "\n",
    "import torch\n",
    "import numpy as np\n",
    "import matplotlib.pyplot as plt\n",
    "from einops import rearrange\n",
    "from tqdm import tqdm, trange\n",
    "from torch.nn import functional as F\n",
    "from utils.download_mnist import mnist_dataloader_test\n",
    "from assembler import get_config, get_config_ebm, make_energy_model\n",
    "from utils.config import show \n",
    "\n",
    "path = !cd .. && pwd\n",
    "path = path[0]\n",
    "\n",
    "def plotable(img):\n",
    "    return rearrange(img, \"b c h w -> (b c h) w \").cpu().detach().numpy()\n",
    "\n",
    "def get_model_config(model_name):\n",
    "    dataset, model, sampling, task = model_name.split(\"/\")\n",
    "    name = f\"{sampling}/{task}\"\n",
    "    config = get_config(get_config_ebm, dataset, model, name, path=path)\n",
    "    return config\n",
    "\n",
    "def reconstruction_error(x_hat, x, reduction=\"mean\"):\n",
    "    return F.mse_loss(x_hat, x, reduction=reduction)"
   ],
   "outputs": [],
   "metadata": {}
  },
  {
   "cell_type": "code",
   "execution_count": 2,
   "source": [
    "model_name = \"mnist/vae/langevin/inpainting\"\n",
    "config = get_model_config(model_name)\n",
    "dm = mnist_dataloader_test(config, path=path)"
   ],
   "outputs": [
    {
     "output_type": "stream",
     "name": "stderr",
     "text": [
      "/home/mingliang/anaconda3/envs/dgflowenv/lib/python3.7/site-packages/torchvision/datasets/mnist.py:498: UserWarning: The given NumPy array is not writeable, and PyTorch does not support non-writeable tensors. This means you can write to the underlying (supposedly non-writeable) NumPy array using the tensor. You may want to copy the array to protect its data or make it writeable before converting it to a tensor. This type of warning will be suppressed for the rest of this program. (Triggered internally at  /opt/conda/conda-bld/pytorch_1623448265233/work/torch/csrc/utils/tensor_numpy.cpp:180.)\n",
      "  return torch.from_numpy(parsed.astype(m[2], copy=False)).view(*s)\n"
     ]
    }
   ],
   "metadata": {}
  },
  {
   "cell_type": "markdown",
   "source": [
    "# Defining Experimental Params"
   ],
   "metadata": {}
  },
  {
   "cell_type": "code",
   "execution_count": 3,
   "source": [
    "show(config)"
   ],
   "outputs": [
    {
     "output_type": "stream",
     "name": "stdout",
     "text": [
      "operator_params\n",
      "    operator: CenterOcclude\n",
      "    size: 13\n",
      "estimator_params\n",
      "    estimator: langevin\n",
      "    burn_in: 0\n",
      "    n_samples: 15\n",
      "    step_size: 0.01\n",
      "    mode: avg\n",
      "    initalisation: posterior\n",
      "    potential: mse\n",
      "base_model_params\n",
      "    model_name: mnist/vae/vanilla\n"
     ]
    }
   ],
   "metadata": {}
  },
  {
   "cell_type": "markdown",
   "source": [
    "# The experiment "
   ],
   "metadata": {}
  },
  {
   "cell_type": "markdown",
   "source": [
    "## Initalisation used"
   ],
   "metadata": {}
  },
  {
   "cell_type": "code",
   "execution_count": 4,
   "source": [
    "config[\"operator_params\"][\"operator\"] = \"RandomOcclude\"\n",
    "config[\"operator_params\"][\"num_measurements\"] = 200"
   ],
   "outputs": [],
   "metadata": {}
  },
  {
   "cell_type": "markdown",
   "source": [
    "## Baseline of 0"
   ],
   "metadata": {}
  },
  {
   "cell_type": "code",
   "execution_count": 5,
   "source": [
    "error = []\n",
    "for x, y in dm:\n",
    "    x = x.to(\"cuda\")\n",
    "    error.append(reconstruction_error(torch.zeros_like(x), x))\n",
    "baseline = (sum(error)/len(error)).cpu().detach()"
   ],
   "outputs": [],
   "metadata": {}
  },
  {
   "cell_type": "markdown",
   "source": [
    "## Repeat for different measurments"
   ],
   "metadata": {}
  },
  {
   "cell_type": "code",
   "execution_count": 7,
   "source": [
    "config[\"exp_params\"][\"batch_size\"] = 100\n",
    "dm = mnist_dataloader_test(config, path=path)"
   ],
   "outputs": [],
   "metadata": {}
  },
  {
   "cell_type": "code",
   "execution_count": 8,
   "source": [
    "langevin = []\n",
    "for num in trange(0, 750, 50):\n",
    "    config[\"operator_params\"][\"num_measurements\"] = num \n",
    "    ebm = make_energy_model(config, path=path)\n",
    "    emb = ebm.to(\"cuda\")\n",
    "    error = []\n",
    "    for x, y in dm:\n",
    "        x = x.to(\"cuda\")\n",
    "        x_tilde = ebm.operator(x)\n",
    "        x_hat = ebm(x_tilde)\n",
    "        error.append(reconstruction_error(x_hat, x))\n",
    "    langevin.append((sum(error)/len(error)).cpu().detach())"
   ],
   "outputs": [
    {
     "output_type": "stream",
     "name": "stderr",
     "text": [
      "100%|██████████| 15/15 [01:21<00:00,  5.40s/it]\n"
     ]
    }
   ],
   "metadata": {}
  },
  {
   "cell_type": "code",
   "execution_count": 9,
   "source": [
    "config[\"estimator_params\"][\"estimator\"] = \"map\"\n",
    "config[\"estimator_params\"][\"n\"] = 15"
   ],
   "outputs": [],
   "metadata": {}
  },
  {
   "cell_type": "code",
   "execution_count": 10,
   "source": [
    "map_est = []\n",
    "for num in trange(0, 750, 50):\n",
    "    config[\"operator_params\"][\"num_measurements\"] = num \n",
    "    ebm = make_energy_model(config, path=path)\n",
    "    emb = ebm.to(\"cuda\")\n",
    "    error = []\n",
    "    for x, y in dm:\n",
    "        x = x.to(\"cuda\")\n",
    "        x_tilde = ebm.operator(x)\n",
    "        x_hat = ebm(x_tilde)\n",
    "        error.append(reconstruction_error(x_hat, x))\n",
    "    map_est.append((sum(error)/len(error)).cpu().detach())"
   ],
   "outputs": [
    {
     "output_type": "stream",
     "name": "stderr",
     "text": [
      " 40%|████      | 6/15 [00:30<00:45,  5.04s/it]"
     ]
    }
   ],
   "metadata": {}
  },
  {
   "cell_type": "code",
   "execution_count": null,
   "source": [
    "len(list(range(0, 750, 50)))"
   ],
   "outputs": [
    {
     "output_type": "execute_result",
     "data": {
      "text/plain": [
       "15"
      ]
     },
     "metadata": {},
     "execution_count": 33
    }
   ],
   "metadata": {}
  },
  {
   "cell_type": "code",
   "execution_count": null,
   "source": [
    "plt.plot(list(range(0, 750, 50)), [baseline]*15)\n",
    "plt.plot(list(range(0, 750, 50)), langevin)\n",
    "plt.plot(list(range(0, 750, 50)), map_est)\n",
    "plt.legend(['baseline (zero estimate)','langevin', 'map'])\n",
    "plt.show()"
   ],
   "outputs": [
    {
     "output_type": "display_data",
     "data": {
      "text/plain": [
       "<Figure size 432x288 with 1 Axes>"
      ],
      "image/png": "[encoded data removed]"
     },
     "metadata": {
      "needs_background": "light"
     }
    }
   ],
   "metadata": {}
  },
  {
   "cell_type": "code",
   "execution_count": null,
   "source": [],
   "outputs": [],
   "metadata": {}
  }
 ],
 "metadata": {
  "interpreter": {
   "hash": "70cf6aaf009a5de79d0c9164f9cd72f71ed7f109548e8202b6e840f3b8b1e73f"
  },
  "kernelspec": {
   "name": "python3",
   "display_name": "Python 3.7.11 64-bit ('dgflowenv': conda)"
  },
  "language_info": {
   "codemirror_mode": {
    "name": "ipython",
    "version": 3
   },
   "file_extension": ".py",
   "mimetype": "text/x-python",
   "name": "python",
   "nbconvert_exporter": "python",
   "pygments_lexer": "ipython3",
   "version": "3.7.11"
  }
 },
 "nbformat": 4,
 "nbformat_minor": 2
}