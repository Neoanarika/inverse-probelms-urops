{
 "cells": [
  {
   "cell_type": "code",
   "execution_count": 1,
   "id": "c2d134fe",
   "metadata": {},
   "outputs": [],
   "source": [
    "import sys\n",
    "sys.path.append(\"..\")\n",
    "\n",
    "import torch\n",
    "import numpy as np\n",
    "import matplotlib.pyplot as plt\n",
    "from einops import rearrange\n",
    "from tqdm import tqdm, trange\n",
    "from torch.nn import functional as F\n",
    "from utils.download_mnist import mnist_dataloader_test\n",
    "from assembler import get_config, get_config_ebm, make_energy_model\n",
    "from utils.config import show \n",
    "\n",
    "path = !cd .. && pwd\n",
    "path = path[0]\n",
    "\n",
    "def plotable(img):\n",
    "    return rearrange(img, \"b c h w -> (b c h) w \").cpu().detach().numpy()\n",
    "\n",
    "def get_model_config(model_name):\n",
    "    dataset, model, sampling, task = model_name.split(\"/\")\n",
    "    name = f\"{sampling}/{task}\"\n",
    "    config = get_config(get_config_ebm, dataset, model, name, path=path)\n",
    "    return config\n",
    "\n",
    "def reconstruction_error(x_hat, x, reduction=\"mean\"):\n",
    "    return F.mse_loss(x_hat, x, reduction=reduction)\n",
    "\n",
    "def experiment(config, x):\n",
    "    ebm = make_energy_model(config, path=path)\n",
    "    \n",
    "    # The math\n",
    "    x_tilde = ebm.operator(x)\n",
    "    x_hat = ebm(x_tilde)\n",
    "    \n",
    "    # The result\n",
    "    fig, axs = plt.subplots(nrows = 1, ncols = 2)\n",
    "    axs[0].set_title(\"original\")\n",
    "    axs[0].imshow(plotable(x))\n",
    "    axs[1].set_title(\"estimation\")\n",
    "    axs[1].imshow(plotable(x_hat))\n",
    "    plt.show()"
   ]
  },
  {
   "cell_type": "code",
   "execution_count": 2,
   "id": "58839b47",
   "metadata": {},
   "outputs": [
    {
     "name": "stderr",
     "output_type": "stream",
     "text": [
      "/home/mingliang/anaconda3/envs/torch3090/lib/python3.7/site-packages/torchvision/datasets/mnist.py:498: UserWarning: The given NumPy array is not writeable, and PyTorch does not support non-writeable tensors. This means you can write to the underlying (supposedly non-writeable) NumPy array using the tensor. You may want to copy the array to protect its data or make it writeable before converting it to a tensor. This type of warning will be suppressed for the rest of this program. (Triggered internally at  /opt/conda/conda-bld/pytorch_1623448265233/work/torch/csrc/utils/tensor_numpy.cpp:180.)\n",
      "  return torch.from_numpy(parsed.astype(m[2], copy=False)).view(*s)\n"
     ]
    }
   ],
   "source": [
    "model_name = \"mnist/vae/langevin/inpainting2\"\n",
    "config = get_model_config(model_name)\n",
    "dm = mnist_dataloader_test(config, path=path)\n",
    "gen = iter(dm)\n",
    "x, y = next(gen)"
   ]
  },
  {
   "cell_type": "code",
   "execution_count": 34,
   "id": "8fd4f743",
   "metadata": {},
   "outputs": [],
   "source": [
    "config[\"operator_params\"][\"operator\"] = \"CenterOcclude\"\n",
    "config[\"operator_params\"][\"num_measurements\"] = 200\n",
    "config[\"estimator_params\"][\"initalisation\"] = \"map_posterior\"\n",
    "config[\"estimator_params\"][\"num_steps_map_initaliser\"] = 1\n",
    "config[\"estimator_params\"][\"step_size_map_initaliser\"] = 0.1\n",
    "config[\"estimator_params\"][\"noise_factor\"] = 0.5\n",
    "config[\"estimator_params\"][\"lambda\"] = 1"
   ]
  },
  {
   "cell_type": "code",
   "execution_count": 37,
   "id": "673eb05b",
   "metadata": {},
   "outputs": [
    {
     "data": {
      "application/vnd.jupyter.widget-view+json": {
       "model_id": "7b5bb18470ed407691a803e0d20fdbdf",
       "version_major": 2,
       "version_minor": 0
      },
      "text/plain": [
       "Canvas(toolbar=Toolbar(toolitems=[('Home', 'Reset original view', 'home', 'home'), ('Back', 'Back to previous …"
      ]
     },
     "metadata": {},
     "output_type": "display_data"
    }
   ],
   "source": [
    "experiment(config, x)"
   ]
  },
  {
   "cell_type": "code",
   "execution_count": 38,
   "id": "82804bd5",
   "metadata": {},
   "outputs": [],
   "source": [
    "ebm = make_energy_model(config, path=path)\n",
    "    \n",
    "# The math\n",
    "x_tilde = ebm.operator(x)\n",
    "x_hat = ebm(x_tilde)"
   ]
  },
  {
   "cell_type": "code",
   "execution_count": 39,
   "id": "5d90d585",
   "metadata": {},
   "outputs": [
    {
     "data": {
      "text/plain": [
       "torch.Size([1, 1, 32, 32])"
      ]
     },
     "execution_count": 39,
     "metadata": {},
     "output_type": "execute_result"
    }
   ],
   "source": [
    "x_tilde.shape"
   ]
  },
  {
   "cell_type": "code",
   "execution_count": 40,
   "id": "fa6da334",
   "metadata": {},
   "outputs": [],
   "source": [
    "from numpy import exp,arange, meshgrid\n",
    "from pylab import meshgrid,cm,imshow,contour,clabel,colorbar,axis,title,show\n",
    "\n",
    "# the function that I'm going to plot\n",
    "@np.vectorize\n",
    "def z_func(x,y):\n",
    " return ebm.energy_fn(x_tilde)(torch.tensor([[x,y]], dtype=torch.float32)).detach().numpy()"
   ]
  },
  {
   "cell_type": "code",
   "execution_count": 41,
   "id": "98c5c1dd",
   "metadata": {},
   "outputs": [],
   "source": [
    "x_ = arange(-5.0,5.0,0.1)\n",
    "y_ = arange(-5.0,5.0,0.1)\n",
    "X,Y = meshgrid(x_, y_) # grid of point\n",
    "Z = z_func(X, Y) # evaluation of the function on the grid"
   ]
  },
  {
   "cell_type": "code",
   "execution_count": 42,
   "id": "0f6a4ec0",
   "metadata": {},
   "outputs": [],
   "source": [
    "%matplotlib widget"
   ]
  },
  {
   "cell_type": "code",
   "execution_count": 43,
   "id": "87edce51",
   "metadata": {},
   "outputs": [
    {
     "data": {
      "application/vnd.jupyter.widget-view+json": {
       "model_id": "ae4b741f9e8e4cc09d7c834cfbe43e27",
       "version_major": 2,
       "version_minor": 0
      },
      "text/plain": [
       "Canvas(toolbar=Toolbar(toolitems=[('Home', 'Reset original view', 'home', 'home'), ('Back', 'Back to previous …"
      ]
     },
     "metadata": {},
     "output_type": "display_data"
    }
   ],
   "source": [
    "fig = plt.figure(figsize=(6,6))\n",
    "ax = fig.add_subplot(111, projection='3d')\n",
    "\n",
    "\n",
    "# Plot a 3D surface\n",
    "ax.plot_surface(X, Y, Z)\n",
    "\n",
    "title('Importance Weight')\n",
    "show()"
   ]
  },
  {
   "cell_type": "code",
   "execution_count": 50,
   "id": "a0822f2b",
   "metadata": {},
   "outputs": [],
   "source": [
    "config['estimator_params']['potential'] = \"discriminator_weighted\"\n",
    "config['estimator_params']['lambda'] = 1\n",
    "config['estimator_params']['lambda_score'] = 0.5\n",
    "config['estimator_params']['discriminator_base_model'] = \"mnist/gan/dcgan\"\n",
    "config[\"estimator_params\"][\"num_steps_finetune\"] = 100\n",
    "config[\"estimator_params\"][\"num_samples_for_finetune\"] = 100"
   ]
  },
  {
   "cell_type": "code",
   "execution_count": 51,
   "id": "6555efb9",
   "metadata": {},
   "outputs": [],
   "source": [
    "ebm2 = make_energy_model(config, path=path)\n",
    "ebm2.finetune_discrimiantor()\n",
    "# The math\n",
    "x_tilde = ebm2.operator(x)\n",
    "x_hat = ebm2(x_tilde)"
   ]
  },
  {
   "cell_type": "code",
   "execution_count": 52,
   "id": "e8f4ab01",
   "metadata": {},
   "outputs": [],
   "source": [
    "from numpy import exp,arange, meshgrid\n",
    "from pylab import meshgrid,cm,imshow,contour,clabel,colorbar,axis,title,show\n",
    "\n",
    "# the function that I'm going to plot\n",
    "@np.vectorize\n",
    "def z2_func(x,y):\n",
    " return ebm2.energy_fn(x_tilde)(torch.tensor([[x,y]], dtype=torch.float32)).detach().numpy()"
   ]
  },
  {
   "cell_type": "code",
   "execution_count": 53,
   "id": "08fbff7e",
   "metadata": {},
   "outputs": [],
   "source": [
    "x2_ = arange(-5.0,5.0,0.1)\n",
    "y2_ = arange(-5.0,5.0,0.1)\n",
    "X2,Y2 = meshgrid(x_, y_) # grid of point\n",
    "Z2 = z2_func(X2, Y2) # evaluation of the function on the grid"
   ]
  },
  {
   "cell_type": "code",
   "execution_count": 54,
   "id": "a76828ef",
   "metadata": {},
   "outputs": [
    {
     "data": {
      "application/vnd.jupyter.widget-view+json": {
       "model_id": "e364780381fe4cc1b6e166cbd7eb7349",
       "version_major": 2,
       "version_minor": 0
      },
      "text/plain": [
       "Canvas(toolbar=Toolbar(toolitems=[('Home', 'Reset original view', 'home', 'home'), ('Back', 'Back to previous …"
      ]
     },
     "metadata": {},
     "output_type": "display_data"
    }
   ],
   "source": [
    "fig = plt.figure(figsize=(6,6))\n",
    "ax = fig.add_subplot(111, projection='3d')\n",
    "\n",
    "\n",
    "# Plot a 3D surface\n",
    "ax.plot_surface(X2, Y2, Z2)\n",
    "\n",
    "title('Importance Weight')\n",
    "show()"
   ]
  },
  {
   "cell_type": "code",
   "execution_count": 55,
   "id": "f85420aa",
   "metadata": {},
   "outputs": [
    {
     "data": {
      "application/vnd.jupyter.widget-view+json": {
       "model_id": "61b2401e53884fce9a986cadedfd53d6",
       "version_major": 2,
       "version_minor": 0
      },
      "text/plain": [
       "Canvas(toolbar=Toolbar(toolitems=[('Home', 'Reset original view', 'home', 'home'), ('Back', 'Back to previous …"
      ]
     },
     "metadata": {},
     "output_type": "display_data"
    }
   ],
   "source": [
    "fig, axs = plt.subplots(nrows = 1, ncols = 2)\n",
    "axs[0].set_title(\"original\")\n",
    "axs[0].imshow(-Z)\n",
    "axs[1].set_title(\"discriminator weights\")\n",
    "axs[1].imshow(-Z2)\n",
    "plt.show()"
   ]
  },
  {
   "cell_type": "code",
   "execution_count": null,
   "id": "ce9d133d",
   "metadata": {},
   "outputs": [],
   "source": []
  }
 ],
 "metadata": {
  "kernelspec": {
   "display_name": "dgflowenv",
   "language": "python",
   "name": "dgflowenv"
  },
  "language_info": {
   "codemirror_mode": {
    "name": "ipython",
    "version": 3
   },
   "file_extension": ".py",
   "mimetype": "text/x-python",
   "name": "python",
   "nbconvert_exporter": "python",
   "pygments_lexer": "ipython3",
   "version": "3.7.10"
  }
 },
 "nbformat": 4,
 "nbformat_minor": 5
}
