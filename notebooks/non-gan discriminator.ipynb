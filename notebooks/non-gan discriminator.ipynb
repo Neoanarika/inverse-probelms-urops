{
 "cells": [
  {
   "cell_type": "code",
   "execution_count": 5,
   "id": "d199a93a",
   "metadata": {},
   "outputs": [],
   "source": [
    "import sys\n",
    "sys.path.append(\"..\")\n",
    "\n",
    "import torch\n",
    "import numpy as np\n",
    "import matplotlib.pyplot as plt\n",
    "from einops import rearrange\n",
    "from tqdm import tqdm, trange\n",
    "from torch.nn import functional as F\n",
    "from utils.download_mnist import mnist_dataloader_test\n",
    "from assembler import get_config, get_config_ebm, make_energy_model\n",
    "from utils.config import show \n",
    "from torchvision.utils import make_grid\n",
    "\n",
    "path = !cd .. && pwd\n",
    "path = path[0]\n",
    "\n",
    "def plotable(img):\n",
    "    return rearrange(img, \"b c h w -> (b c h) w \").cpu().detach().numpy()\n",
    "\n",
    "def get_model_config(model_name):\n",
    "    dataset, model, sampling, task = model_name.split(\"/\")\n",
    "    name = f\"{sampling}/{task}\"\n",
    "    config = get_config(get_config_ebm, dataset, model, name, path=path)\n",
    "    return config\n",
    "\n",
    "def reconstruction_error(x_hat, x, reduction=\"mean\"):\n",
    "    return F.mse_loss(x_hat, x, reduction=reduction)"
   ]
  },
  {
   "cell_type": "code",
   "execution_count": 6,
   "id": "b81e28c2",
   "metadata": {},
   "outputs": [],
   "source": [
    "model_name = \"mnist/vae/langevin/inpainting\"\n",
    "config = get_model_config(model_name)"
   ]
  },
  {
   "cell_type": "code",
   "execution_count": 7,
   "id": "5a204a67",
   "metadata": {},
   "outputs": [],
   "source": [
    "config[\"operator_params\"][\"operator\"] = \"CompressedSensing\"\n",
    "config[\"operator_params\"][\"num_measurements\"] = 100\n",
    "config[\"exp_params\"][\"batch_size\"] = 100"
   ]
  },
  {
   "cell_type": "code",
   "execution_count": 8,
   "id": "fa0dcf7f",
   "metadata": {},
   "outputs": [
    {
     "name": "stderr",
     "output_type": "stream",
     "text": [
      "/home/mingliang/anaconda3/envs/torch3090/lib/python3.7/site-packages/torchvision/datasets/mnist.py:498: UserWarning: The given NumPy array is not writeable, and PyTorch does not support non-writeable tensors. This means you can write to the underlying (supposedly non-writeable) NumPy array using the tensor. You may want to copy the array to protect its data or make it writeable before converting it to a tensor. This type of warning will be suppressed for the rest of this program. (Triggered internally at  /opt/conda/conda-bld/pytorch_1623448265233/work/torch/csrc/utils/tensor_numpy.cpp:180.)\n",
      "  return torch.from_numpy(parsed.astype(m[2], copy=False)).view(*s)\n"
     ]
    }
   ],
   "source": [
    "dm = mnist_dataloader_test(config, path=path)"
   ]
  },
  {
   "cell_type": "code",
   "execution_count": 19,
   "id": "a9cab5d9",
   "metadata": {},
   "outputs": [],
   "source": [
    "from torch import nn, Tensor\n",
    "\n",
    "class Discriminator(nn.Module):\n",
    "\n",
    "    def __init__(self, config) -> None:\n",
    "        \"\"\"\n",
    "        Args:\n",
    "            feature_maps: Number of feature maps to use\n",
    "            image_channels: Number of channels of the images from the dataset\n",
    "        \"\"\"\n",
    "        super().__init__()\n",
    "        feature_maps = 64\n",
    "        image_channels = 1\n",
    "\n",
    "        self.disc = nn.Sequential(\n",
    "            self._make_disc_block(image_channels, feature_maps, batch_norm=False),\n",
    "            self._make_disc_block(feature_maps, feature_maps * 2),\n",
    "            self._make_disc_block(feature_maps * 2, feature_maps * 4),\n",
    "            self._make_disc_block(feature_maps * 4, feature_maps * 8),\n",
    "            self._make_disc_block(feature_maps * 8, 1, kernel_size=2, stride=1, padding=0, last_block=True),\n",
    "        )\n",
    "\n",
    "    @staticmethod\n",
    "    def _make_disc_block(\n",
    "        in_channels: int,\n",
    "        out_channels: int,\n",
    "        kernel_size: int = 4,\n",
    "        stride: int = 2,\n",
    "        padding: int = 1,\n",
    "        bias: bool = False,\n",
    "        batch_norm: bool = True,\n",
    "        last_block: bool = False,\n",
    "    ) -> nn.Sequential:\n",
    "        if not last_block:\n",
    "            disc_block = nn.Sequential(\n",
    "                torch.nn.utils.spectral_norm(nn.Conv2d(in_channels, out_channels, kernel_size, stride, padding, bias=bias)),\n",
    "                nn.BatchNorm2d(out_channels) if batch_norm else nn.Identity(),\n",
    "                nn.LeakyReLU(0.2, inplace=True),\n",
    "            )\n",
    "        else:\n",
    "            disc_block = nn.Sequential(\n",
    "                nn.Conv2d(in_channels, out_channels, kernel_size, stride, padding, bias=bias)\n",
    "            )\n",
    "\n",
    "        return disc_block\n",
    "\n",
    "    def forward(self, x: Tensor) -> Tensor:\n",
    "        return torch.sigmoid(self.disc(x)/2).view(-1, 1).squeeze(1)\n",
    "    \n",
    "    def logit(self, x: Tensor) -> Tensor:\n",
    "        return self.disc(x).view(-1, 1).squeeze(1)"
   ]
  },
  {
   "cell_type": "code",
   "execution_count": 20,
   "id": "9f8c05ab",
   "metadata": {},
   "outputs": [],
   "source": [
    "config['estimator_params'][\"initalisation\"] = \"random\"\n",
    "config['estimator_params']['potential'] = \"mse\"\n",
    "config['estimator_params']['lambda'] = 1\n",
    "config[\"estimator_params\"][\"noise_factor\"] = 0.5\n",
    "config[\"estimator_params\"][\"burn_in\"] = 120\n",
    "config['estimator_params']['initalisation'] = \"map_posterior\"\n",
    "config['estimator_params']['num_steps_map_initaliser'] = 100\n",
    "config['estimator_params']['step_size_map_initaliser'] = 0.1"
   ]
  },
  {
   "cell_type": "code",
   "execution_count": 21,
   "id": "8ace972b",
   "metadata": {},
   "outputs": [],
   "source": [
    "ebm = make_energy_model(config, path=path)\n",
    "ebm = ebm.to(\"cuda\")"
   ]
  },
  {
   "cell_type": "code",
   "execution_count": 26,
   "id": "7739580e",
   "metadata": {},
   "outputs": [
    {
     "data": {
      "text/plain": [
       "Discriminator(\n",
       "  (disc): Sequential(\n",
       "    (0): Sequential(\n",
       "      (0): Conv2d(1, 64, kernel_size=(4, 4), stride=(2, 2), padding=(1, 1), bias=False)\n",
       "      (1): Identity()\n",
       "      (2): LeakyReLU(negative_slope=0.2, inplace=True)\n",
       "    )\n",
       "    (1): Sequential(\n",
       "      (0): Conv2d(64, 128, kernel_size=(4, 4), stride=(2, 2), padding=(1, 1), bias=False)\n",
       "      (1): BatchNorm2d(128, eps=1e-05, momentum=0.1, affine=True, track_running_stats=True)\n",
       "      (2): LeakyReLU(negative_slope=0.2, inplace=True)\n",
       "    )\n",
       "    (2): Sequential(\n",
       "      (0): Conv2d(128, 256, kernel_size=(4, 4), stride=(2, 2), padding=(1, 1), bias=False)\n",
       "      (1): BatchNorm2d(256, eps=1e-05, momentum=0.1, affine=True, track_running_stats=True)\n",
       "      (2): LeakyReLU(negative_slope=0.2, inplace=True)\n",
       "    )\n",
       "    (3): Sequential(\n",
       "      (0): Conv2d(256, 512, kernel_size=(4, 4), stride=(2, 2), padding=(1, 1), bias=False)\n",
       "      (1): BatchNorm2d(512, eps=1e-05, momentum=0.1, affine=True, track_running_stats=True)\n",
       "      (2): LeakyReLU(negative_slope=0.2, inplace=True)\n",
       "    )\n",
       "    (4): Sequential(\n",
       "      (0): Conv2d(512, 1, kernel_size=(2, 2), stride=(1, 1), bias=False)\n",
       "    )\n",
       "  )\n",
       ")"
      ]
     },
     "execution_count": 26,
     "metadata": {},
     "output_type": "execute_result"
    }
   ],
   "source": [
    "discriminator = Discriminator(config)\n",
    "discriminator.to(\"cuda\")"
   ]
  },
  {
   "cell_type": "code",
   "execution_count": 27,
   "id": "c81148f1",
   "metadata": {},
   "outputs": [
    {
     "name": "stderr",
     "output_type": "stream",
     "text": [
      "100%|██████████| 100/100 [00:02<00:00, 39.87it/s]\n"
     ]
    }
   ],
   "source": [
    "from torch import optim \n",
    "\n",
    "criterion = nn.BCELoss()\n",
    "optimizer = optim.SGD(discriminator.parameters(), lr=0.01, momentum=0.9)\n",
    "for real, y in tqdm(dm):\n",
    "    optimizer.zero_grad()\n",
    "    real = real.to(\"cuda\")\n",
    "\n",
    "    real_pred = discriminator(real)\n",
    "    real_gt = torch.ones_like(real_pred)\n",
    "    real_loss = criterion(real_pred, real_gt)\n",
    "\n",
    "    # Train with fake\n",
    "    fake_pred = discriminator(ebm.model.model.get_samples(100))\n",
    "    fake_gt = torch.zeros_like(fake_pred)\n",
    "    fake_loss = criterion(fake_pred, fake_gt)\n",
    "\n",
    "    disc_loss = real_loss + fake_loss\n",
    "    disc_loss.backward()\n",
    "    optimizer.step()"
   ]
  },
  {
   "cell_type": "code",
   "execution_count": 28,
   "id": "c9777f8e",
   "metadata": {},
   "outputs": [
    {
     "data": {
      "text/plain": [
       "tensor([0.1417, 0.3926, 0.0368, 0.3020, 0.0080, 0.1095, 0.1031, 0.0538, 0.0308,\n",
       "        0.0041, 0.0348, 0.2504, 0.1530, 0.0821, 0.0271, 0.0609, 0.0253, 0.1048,\n",
       "        0.0735, 0.0243, 0.1014, 0.2693, 0.0857, 0.0310, 0.0235, 0.0479, 0.1118,\n",
       "        0.1361, 0.0270, 0.0423, 0.0643, 0.0183, 0.1400, 0.2467, 0.0820, 0.1654,\n",
       "        0.0231, 0.0880, 0.2092, 0.0033, 0.0810, 0.1615, 0.3496, 0.0727, 0.1876,\n",
       "        0.0381, 0.2964, 0.0403, 0.1021, 0.1061, 0.0423, 0.2941, 0.1242, 0.0523,\n",
       "        0.0120, 0.0899, 0.0772, 0.0680, 0.2059, 0.1652, 0.1421, 0.0964, 0.0092,\n",
       "        0.0828, 0.0895, 0.1778, 0.3277, 0.1969, 0.1697, 0.1660, 0.0059, 0.0613,\n",
       "        0.1269, 0.2362, 0.0867, 0.0210, 0.1762, 0.0082, 0.0957, 0.0427, 0.0429,\n",
       "        0.0372, 0.1573, 0.0100, 0.0547, 0.0361, 0.0975, 0.0229, 0.0450, 0.1761,\n",
       "        0.0260, 0.0714, 0.2770, 0.0647, 0.1170, 0.0757, 0.1751, 0.0325, 0.0396,\n",
       "        0.2429], device='cuda:0', grad_fn=<SqueezeBackward1>)"
      ]
     },
     "execution_count": 28,
     "metadata": {},
     "output_type": "execute_result"
    }
   ],
   "source": [
    "discriminator(ebm.model.model.get_samples(100))"
   ]
  },
  {
   "cell_type": "code",
   "execution_count": 29,
   "id": "adc27422",
   "metadata": {},
   "outputs": [
    {
     "data": {
      "text/plain": [
       "tensor([0.9938, 0.9948, 0.9992, 0.9979, 0.9995, 0.9987, 0.9979, 0.9966, 0.9955,\n",
       "        0.9968, 0.9987, 0.9975, 0.9989, 0.9987, 0.9938, 0.9978, 0.9979, 0.9946,\n",
       "        0.9987, 0.9986, 0.9976, 0.9984, 0.9977, 0.9982, 0.9981, 0.9941, 0.9982,\n",
       "        0.9992, 0.9990, 0.9991, 0.9814, 0.9973, 0.9990, 0.9991, 0.9935, 0.9978,\n",
       "        0.9938, 0.9985, 0.9953, 0.9966, 0.9963, 0.9955, 0.9971, 0.9840, 0.9965,\n",
       "        0.9984, 0.9979, 0.9991, 0.9835, 0.9944, 0.9989, 0.9977, 0.9728, 0.9916,\n",
       "        0.9947, 0.9981, 0.9970, 0.9977, 0.9992, 0.9969, 0.9986, 0.9973, 0.9909,\n",
       "        0.9962, 0.9944, 0.9946, 0.9983, 0.9927, 0.9987, 0.9987, 0.9884, 0.9990,\n",
       "        0.9985, 0.9976, 0.9987, 0.9982, 0.9967, 0.9973, 0.9979, 0.9965, 0.9929,\n",
       "        0.9944, 0.9816, 0.9702, 0.9977, 0.9930, 0.9983, 0.9976, 0.9916, 0.9948,\n",
       "        0.9986, 0.9919, 0.9980, 0.9804, 0.9966, 0.9944, 0.9919, 0.9980, 0.9951,\n",
       "        0.9979], device='cuda:0', grad_fn=<SqueezeBackward1>)"
      ]
     },
     "execution_count": 29,
     "metadata": {},
     "output_type": "execute_result"
    }
   ],
   "source": [
    "discriminator(real)"
   ]
  },
  {
   "cell_type": "code",
   "execution_count": 26,
   "id": "b69233df",
   "metadata": {},
   "outputs": [],
   "source": [
    "torch.save(discriminator.state_dict(), 'non_gan_discriminator.ckpt')"
   ]
  },
  {
   "cell_type": "code",
   "execution_count": null,
   "id": "f015f259",
   "metadata": {},
   "outputs": [],
   "source": []
  }
 ],
 "metadata": {
  "kernelspec": {
   "display_name": "dgflowenv",
   "language": "python",
   "name": "dgflowenv"
  },
  "language_info": {
   "codemirror_mode": {
    "name": "ipython",
    "version": 3
   },
   "file_extension": ".py",
   "mimetype": "text/x-python",
   "name": "python",
   "nbconvert_exporter": "python",
   "pygments_lexer": "ipython3",
   "version": "3.7.10"
  }
 },
 "nbformat": 4,
 "nbformat_minor": 5
}
