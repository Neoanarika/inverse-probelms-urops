{
 "cells": [
  {
   "cell_type": "code",
   "execution_count": 1,
   "id": "f8b5c336",
   "metadata": {},
   "outputs": [],
   "source": [
    "import sys\n",
    "sys.path.append(\"..\")\n",
    "\n",
    "import torch\n",
    "import numpy as np\n",
    "import matplotlib.pyplot as plt\n",
    "from einops import rearrange\n",
    "from tqdm import tqdm, trange\n",
    "from torch.nn import functional as F\n",
    "from utils.download_mnist import mnist_dataloader_test\n",
    "from assembler import get_config, get_config_ebm, make_energy_model\n",
    "from utils.config import show \n",
    "\n",
    "path = !cd .. && pwd\n",
    "path = path[0]\n",
    "\n",
    "def plotable(img):\n",
    "    return rearrange(img, \"b c h w -> (b c h) w \").cpu().detach().numpy()\n",
    "\n",
    "def get_model_config(model_name):\n",
    "    dataset, model, sampling, task = model_name.split(\"/\")\n",
    "    name = f\"{sampling}/{task}\"\n",
    "    config = get_config(get_config_ebm, dataset, model, name, path=path)\n",
    "    return config\n",
    "\n",
    "def reconstruction_error(x_hat, x, reduction=\"mean\"):\n",
    "    return F.mse_loss(x_hat, x, reduction=reduction)"
   ]
  },
  {
   "cell_type": "code",
   "execution_count": 2,
   "id": "28924a70",
   "metadata": {},
   "outputs": [
    {
     "name": "stderr",
     "output_type": "stream",
     "text": [
      "/home/mingliang/anaconda3/envs/torch3090/lib/python3.7/site-packages/torchvision/datasets/mnist.py:498: UserWarning: The given NumPy array is not writeable, and PyTorch does not support non-writeable tensors. This means you can write to the underlying (supposedly non-writeable) NumPy array using the tensor. You may want to copy the array to protect its data or make it writeable before converting it to a tensor. This type of warning will be suppressed for the rest of this program. (Triggered internally at  /opt/conda/conda-bld/pytorch_1623448265233/work/torch/csrc/utils/tensor_numpy.cpp:180.)\n",
      "  return torch.from_numpy(parsed.astype(m[2], copy=False)).view(*s)\n"
     ]
    }
   ],
   "source": [
    "model_name = \"mnist/vae/langevin/inpainting\"\n",
    "config = get_model_config(model_name)\n",
    "dm = mnist_dataloader_test(config, path=path)"
   ]
  },
  {
   "cell_type": "code",
   "execution_count": 3,
   "id": "8cd7aa2f",
   "metadata": {},
   "outputs": [
    {
     "name": "stdout",
     "output_type": "stream",
     "text": [
      "operator_params\n",
      "    operator: CenterOcclude\n",
      "    size: 13\n",
      "estimator_params\n",
      "    estimator: langevin\n",
      "    burn_in: 0\n",
      "    n_samples: 15\n",
      "    step_size: 0.01\n",
      "    mode: avg\n",
      "    initalisation: posterior\n",
      "    potential: mse\n",
      "base_model_params\n",
      "    model_name: mnist/vae/vanilla\n"
     ]
    }
   ],
   "source": [
    "show(config)"
   ]
  },
  {
   "cell_type": "code",
   "execution_count": 4,
   "id": "46c52746",
   "metadata": {},
   "outputs": [],
   "source": [
    "config[\"operator_params\"][\"operator\"] = \"CompressedSensing\"\n",
    "config[\"operator_params\"][\"num_measurements\"] = 200"
   ]
  },
  {
   "cell_type": "code",
   "execution_count": 5,
   "id": "d61fac17",
   "metadata": {},
   "outputs": [],
   "source": [
    "config[\"estimator_params\"][\"initalisation\"] = \"random\"\n",
    "config[\"exp_params\"][\"batch_size\"] = 100\n",
    "dm = mnist_dataloader_test(config, path=path)"
   ]
  },
  {
   "cell_type": "code",
   "execution_count": 6,
   "id": "07a31f5d",
   "metadata": {},
   "outputs": [
    {
     "name": "stderr",
     "output_type": "stream",
     "text": [
      "100%|██████████| 15/15 [01:18<00:00,  5.23s/it]\n"
     ]
    }
   ],
   "source": [
    "posterior = []\n",
    "error_posterior = []\n",
    "for num in trange(0, 750, 50):\n",
    "    config[\"operator_params\"][\"num_measurements\"] = num\n",
    "    ebm = make_energy_model(config, path=path)\n",
    "    ebm = ebm.to(\"cuda\")\n",
    "    error = []\n",
    "    for x, y in dm:\n",
    "        x = x.to(\"cuda\")\n",
    "        x_tilde = ebm.operator(x)\n",
    "        x_hat = ebm(x_tilde)\n",
    "        error.append(reconstruction_error(x_hat, x))\n",
    "    e_x = (sum(error)/len(error)).cpu().detach()\n",
    "    e_x2 = (sum(map(lambda x: x**2, error))/len(error)).cpu().detach()\n",
    "    std = np.sqrt(e_x2 - (e_x)**2)\n",
    "    posterior.append(e_x)\n",
    "    error_posterior.append(std)"
   ]
  },
  {
   "cell_type": "code",
   "execution_count": 7,
   "id": "cae9ed7b",
   "metadata": {},
   "outputs": [],
   "source": [
    "config[\"estimator_params\"][\"initalisation\"] = \"map_posterior\"\n",
    "config[\"estimator_params\"][\"num_steps_map_initaliser\"] = 100\n",
    "config[\"estimator_params\"][\"step_size_map_initaliser\"] = 0.1"
   ]
  },
  {
   "cell_type": "code",
   "execution_count": 8,
   "id": "59471250",
   "metadata": {},
   "outputs": [
    {
     "name": "stderr",
     "output_type": "stream",
     "text": [
      "100%|██████████| 15/15 [07:23<00:00, 29.53s/it]\n"
     ]
    }
   ],
   "source": [
    "map_posterior = []\n",
    "error_map_posterior = []\n",
    "for num in trange(0, 750, 50):\n",
    "    config[\"operator_params\"][\"num_measurements\"] = num \n",
    "    ebm = make_energy_model(config, path=path)\n",
    "    ebm = make_energy_model(config, path=path)\n",
    "    emb = ebm.to(\"cuda\")\n",
    "    error = []\n",
    "    for x, y in dm:\n",
    "        x = x.to(\"cuda\")\n",
    "        x_tilde = ebm.operator(x)\n",
    "        x_hat = ebm(x_tilde)\n",
    "        error.append(reconstruction_error(x_hat, x))\n",
    "    e_x = (sum(error)/len(error)).cpu().detach()\n",
    "    e_x2 = (sum(map(lambda x: x**2, error))/len(error)).cpu().detach()\n",
    "    std = np.sqrt(e_x2 - (e_x)**2)\n",
    "    map_posterior.append(e_x)\n",
    "    error_map_posterior.append(std)"
   ]
  },
  {
   "cell_type": "code",
   "execution_count": 10,
   "id": "22b54818",
   "metadata": {},
   "outputs": [],
   "source": [
    "error = []\n",
    "for x, y in dm:\n",
    "    x = x.to(\"cuda\")\n",
    "    error.append(reconstruction_error(torch.zeros_like(x), x))\n",
    "baseline = (sum(error)/len(error)).cpu().detach()"
   ]
  },
  {
   "cell_type": "code",
   "execution_count": 14,
   "id": "81c83a6d",
   "metadata": {},
   "outputs": [
    {
     "data": {
      "image/png": "[encoded data removed]",
      "text/plain": [
       "<Figure size 432x288 with 1 Axes>"
      ]
     },
     "metadata": {
      "needs_background": "light"
     },
     "output_type": "display_data"
    }
   ],
   "source": [
    "plt.xlabel('Number of measurements', fontsize=15)\n",
    "plt.ylabel('Reconstruction error (per pixel)', fontsize=15)\n",
    "plt.ylim(0, 0.15)\n",
    "plt.plot(list(range(0, 750, 50)), [baseline]*15)\n",
    "plt.errorbar(list(range(0, 750, 50)), posterior, yerr=error_posterior, fmt='-o')\n",
    "plt.errorbar(list(range(0, 750, 50)), map_posterior, yerr=error_map_posterior, fmt='-s')\n",
    "plt.legend(['baseline (zero estimate)','random initalisation', 'map initalisation'])\n",
    "plt.show()"
   ]
  },
  {
   "cell_type": "code",
   "execution_count": 28,
   "id": "e60f8820",
   "metadata": {},
   "outputs": [],
   "source": [
    "config[\"operator_params\"][\"operator\"] = \"GuassianNoise\"\n",
    "config[\"operator_params\"][\"noise_level\"] = 0.5"
   ]
  },
  {
   "cell_type": "code",
   "execution_count": 29,
   "id": "e59acbb2",
   "metadata": {},
   "outputs": [],
   "source": [
    "config[\"estimator_params\"][\"initalisation\"] = \"posterior\"\n",
    "config[\"exp_params\"][\"batch_size\"] = 100\n",
    "dm = mnist_dataloader_test(config, path=path)"
   ]
  },
  {
   "cell_type": "code",
   "execution_count": 30,
   "id": "0b94a677",
   "metadata": {},
   "outputs": [
    {
     "name": "stderr",
     "output_type": "stream",
     "text": [
      "100%|██████████| 16/16 [01:25<00:00,  5.35s/it]\n"
     ]
    }
   ],
   "source": [
    "posterior = []\n",
    "error_posterior = []\n",
    "for num in trange(0, 16):\n",
    "    config[\"operator_params\"][\"noise_level\"] = num/15\n",
    "    ebm = make_energy_model(config, path=path)\n",
    "    ebm = ebm.to(\"cuda\")\n",
    "    error = []\n",
    "    for x, y in dm:\n",
    "        x = x.to(\"cuda\")\n",
    "        x_tilde = ebm.operator(x)\n",
    "        x_hat = ebm(x_tilde)\n",
    "        error.append(reconstruction_error(x_hat, x))\n",
    "    e_x = (sum(error)/len(error)).cpu().detach()\n",
    "    e_x2 = (sum(map(lambda x: x**2, error))/len(error)).cpu().detach()\n",
    "    std = np.sqrt(e_x2 - (e_x)**2)\n",
    "    posterior.append(e_x)\n",
    "    error_posterior.append(std)"
   ]
  },
  {
   "cell_type": "code",
   "execution_count": 31,
   "id": "e83d63f7",
   "metadata": {},
   "outputs": [],
   "source": [
    "config[\"estimator_params\"][\"initalisation\"] = \"random\"\n",
    "config[\"exp_params\"][\"batch_size\"] = 100\n",
    "dm = mnist_dataloader_test(config, path=path)"
   ]
  },
  {
   "cell_type": "code",
   "execution_count": 32,
   "id": "d7b183f4",
   "metadata": {},
   "outputs": [
    {
     "name": "stderr",
     "output_type": "stream",
     "text": [
      "100%|██████████| 16/16 [01:21<00:00,  5.11s/it]\n"
     ]
    }
   ],
   "source": [
    "random = []\n",
    "error_random = []\n",
    "for num in trange(0, 16):\n",
    "    config[\"operator_params\"][\"noise_level\"] = num/15\n",
    "    ebm = make_energy_model(config, path=path)\n",
    "    emb = ebm.to(\"cuda\")\n",
    "    error = []\n",
    "    for x, y in dm:\n",
    "        x = x.to(\"cuda\")\n",
    "        x_tilde = ebm.operator(x)\n",
    "        x_hat = ebm(x_tilde)\n",
    "        error.append(reconstruction_error(x_hat, x))\n",
    "    e_x = (sum(error)/len(error)).cpu().detach()\n",
    "    e_x2 = (sum(map(lambda x: x**2, error))/len(error)).cpu().detach()\n",
    "    std = np.sqrt(e_x2 - (e_x)**2)\n",
    "    random.append(e_x)\n",
    "    error_random.append(std)"
   ]
  },
  {
   "cell_type": "code",
   "execution_count": 33,
   "id": "3bb11ccf",
   "metadata": {},
   "outputs": [],
   "source": [
    "config[\"estimator_params\"][\"initalisation\"] = \"map_posterior\"\n",
    "config[\"estimator_params\"][\"num_steps_map_initaliser\"] = 100\n",
    "config[\"estimator_params\"][\"step_size_map_initaliser\"] = 0.1"
   ]
  },
  {
   "cell_type": "code",
   "execution_count": 34,
   "id": "42715e1c",
   "metadata": {},
   "outputs": [
    {
     "name": "stderr",
     "output_type": "stream",
     "text": [
      "100%|██████████| 16/16 [07:36<00:00, 28.51s/it]\n"
     ]
    }
   ],
   "source": [
    "map_posterior = []\n",
    "error_map_posterior = []\n",
    "for num in trange(0, 16):\n",
    "    config[\"operator_params\"][\"noise_level\"] = num/15\n",
    "    ebm = make_energy_model(config, path=path)\n",
    "    ebm = make_energy_model(config, path=path)\n",
    "    emb = ebm.to(\"cuda\")\n",
    "    error = []\n",
    "    for x, y in dm:\n",
    "        x = x.to(\"cuda\")\n",
    "        x_tilde = ebm.operator(x)\n",
    "        x_hat = ebm(x_tilde)\n",
    "        error.append(reconstruction_error(x_hat, x))\n",
    "    e_x = (sum(error)/len(error)).cpu().detach()\n",
    "    e_x2 = (sum(map(lambda x: x**2, error))/len(error)).cpu().detach()\n",
    "    std = np.sqrt(e_x2 - (e_x)**2)\n",
    "    map_posterior.append(e_x)\n",
    "    error_map_posterior.append(std)"
   ]
  },
  {
   "cell_type": "code",
   "execution_count": 38,
   "id": "61a2423e",
   "metadata": {},
   "outputs": [
    {
     "data": {
      "image/png": "[encoded data removed]",
      "text/plain": [
       "<Figure size 432x288 with 1 Axes>"
      ]
     },
     "metadata": {
      "needs_background": "light"
     },
     "output_type": "display_data"
    }
   ],
   "source": [
    "plt.xlabel('Noise Level', fontsize=15)\n",
    "plt.ylabel('Reconstruction error (per pixel)', fontsize=15)\n",
    "plt.ylim(0, 0.15)\n",
    "plt.plot(list(range(0, 16)), [baseline]*16)\n",
    "plt.errorbar(list(range(0, 16)), posterior, yerr=error_posterior, fmt='-o')\n",
    "plt.errorbar(list(range(0, 16)), random, yerr=error_random, fmt='-^')\n",
    "plt.errorbar(list(range(0, 16)), map_posterior, yerr=error_map_posterior, fmt='-s')\n",
    "plt.legend(['baseline (zero estimate)','posterior initalisation', 'random initalisation', 'MAP initalisation'])\n",
    "plt.show()"
   ]
  },
  {
   "cell_type": "code",
   "execution_count": null,
   "id": "b67e4bfb",
   "metadata": {},
   "outputs": [],
   "source": []
  }
 ],
 "metadata": {
  "kernelspec": {
   "display_name": "dgflowenv",
   "language": "python",
   "name": "dgflowenv"
  },
  "language_info": {
   "codemirror_mode": {
    "name": "ipython",
    "version": 3
   },
   "file_extension": ".py",
   "mimetype": "text/x-python",
   "name": "python",
   "nbconvert_exporter": "python",
   "pygments_lexer": "ipython3",
   "version": "3.7.10"
  }
 },
 "nbformat": 4,
 "nbformat_minor": 5
}
