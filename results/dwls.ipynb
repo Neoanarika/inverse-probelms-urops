{
 "cells": [
  {
   "cell_type": "code",
   "execution_count": 1,
   "metadata": {},
   "outputs": [],
   "source": [
    "import sys\n",
    "sys.path.append(\"..\")\n",
    "\n",
    "import torch\n",
    "import numpy as np\n",
    "import matplotlib.pyplot as plt\n",
    "from einops import rearrange\n",
    "from tqdm import trange\n",
    "from torch.nn import functional as F\n",
    "from utils.download_mnist import mnist_dataloader_test\n",
    "from assembler import get_config, get_config_ebm, make_energy_model\n",
    "from utils.config import show \n",
    "\n",
    "path = !cd .. && pwd\n",
    "path = path[0]\n",
    "\n",
    "def plotable(img):\n",
    "    return rearrange(img, \"b c h w -> (b c h) w \").cpu().detach().numpy()\n",
    "\n",
    "def get_model_config(model_name):\n",
    "    dataset, model, sampling, task = model_name.split(\"/\")\n",
    "    name = f\"{sampling}/{task}\"\n",
    "    config = get_config(get_config_ebm, dataset, model, name, path=path)\n",
    "    return config\n",
    "\n",
    "def experiment(config, x):\n",
    "    ebm = make_energy_model(config, path=path)\n",
    "    \n",
    "    # The math\n",
    "    x_tilde = ebm.operator(x)\n",
    "    x_hat = ebm(x_tilde)\n",
    "    \n",
    "    # The result\n",
    "    fig, axs = plt.subplots(nrows = 1, ncols = 2)\n",
    "    axs[0].set_title(\"original\")\n",
    "    axs[0].imshow(plotable(x))\n",
    "    axs[1].set_title(\"estimation\")\n",
    "    axs[1].imshow(plotable(x_hat))\n",
    "    plt.show()\n",
    "\n",
    "def reconstruction_error(x_hat, x, reduction=\"mean\"):\n",
    "    return F.mse_loss(x_hat, x, reduction=reduction)"
   ]
  },
  {
   "cell_type": "code",
   "execution_count": 2,
   "metadata": {},
   "outputs": [
    {
     "name": "stderr",
     "output_type": "stream",
     "text": [
      "/home/mingliang/anaconda3/envs/dgflowenv/lib/python3.7/site-packages/torchvision/datasets/mnist.py:498: UserWarning: The given NumPy array is not writeable, and PyTorch does not support non-writeable tensors. This means you can write to the underlying (supposedly non-writeable) NumPy array using the tensor. You may want to copy the array to protect its data or make it writeable before converting it to a tensor. This type of warning will be suppressed for the rest of this program. (Triggered internally at  /opt/conda/conda-bld/pytorch_1623448265233/work/torch/csrc/utils/tensor_numpy.cpp:180.)\n",
      "  return torch.from_numpy(parsed.astype(m[2], copy=False)).view(*s)\n"
     ]
    }
   ],
   "source": [
    "model_name = \"mnist/vae/langevin/inpainting\"\n",
    "config = get_model_config(model_name)\n",
    "config[\"exp_params\"][\"batch_size\"] = 100\n",
    "dm = mnist_dataloader_test(config, path=path)"
   ]
  },
  {
   "cell_type": "markdown",
   "metadata": {},
   "source": [
    "# Inpainting "
   ]
  },
  {
   "cell_type": "code",
   "execution_count": 3,
   "metadata": {},
   "outputs": [],
   "source": [
    "config[\"operator_params\"][\"operator\"] = \"RandomOcclude\""
   ]
  },
  {
   "cell_type": "markdown",
   "metadata": {},
   "source": [
    "## MAP initalisation"
   ]
  },
  {
   "cell_type": "code",
   "execution_count": 6,
   "metadata": {},
   "outputs": [],
   "source": [
    "config[\"estimator_params\"][\"initalisation\"] = \"map_posterior\"\n",
    "config[\"estimator_params\"][\"num_steps_map_initaliser\"] = 100\n",
    "config[\"estimator_params\"][\"step_size_map_initaliser\"] = 0.1"
   ]
  },
  {
   "cell_type": "code",
   "execution_count": 7,
   "metadata": {},
   "outputs": [
    {
     "name": "stderr",
     "output_type": "stream",
     "text": [
      "100%|██████████| 15/15 [07:33<00:00, 30.26s/it]\n"
     ]
    }
   ],
   "source": [
    "map_posterior = []\n",
    "error_map_posterior = []\n",
    "for num in trange(0, 750, 50):\n",
    "    config[\"operator_params\"][\"num_measurements\"] = num\n",
    "    ebm = make_energy_model(config, path=path)\n",
    "    ebm = ebm.to(\"cuda\")\n",
    "    error = []\n",
    "    for x, y in dm:\n",
    "        x = x.to(\"cuda\")\n",
    "        x_tilde = ebm.operator(x)\n",
    "        x_hat = ebm(x_tilde)\n",
    "        error.append(reconstruction_error(x_hat, x))\n",
    "    e_x = (sum(error)/len(error)).cpu().detach()\n",
    "    e_x2 = (sum(map(lambda x: x**2, error))/len(error)).cpu().detach()\n",
    "    std = np.sqrt(e_x2 - (e_x)**2)\n",
    "    map_posterior.append(e_x)\n",
    "    error_map_posterior.append(std)"
   ]
  },
  {
   "cell_type": "markdown",
   "metadata": {},
   "source": [
    "## Random"
   ]
  },
  {
   "cell_type": "code",
   "execution_count": 8,
   "metadata": {},
   "outputs": [],
   "source": [
    "config[\"estimator_params\"][\"initalisation\"] = \"random\""
   ]
  },
  {
   "cell_type": "code",
   "execution_count": 9,
   "metadata": {},
   "outputs": [
    {
     "name": "stderr",
     "output_type": "stream",
     "text": [
      "100%|██████████| 15/15 [01:21<00:00,  5.45s/it]\n"
     ]
    }
   ],
   "source": [
    "random = []\n",
    "error_random = []\n",
    "for num in trange(0, 750, 50):\n",
    "    config[\"operator_params\"][\"num_measurements\"] = num\n",
    "    ebm = make_energy_model(config, path=path)\n",
    "    ebm = ebm.to(\"cuda\")\n",
    "    error = []\n",
    "    for x, y in dm:\n",
    "        x = x.to(\"cuda\")\n",
    "        x_tilde = ebm.operator(x)\n",
    "        x_hat = ebm(x_tilde)\n",
    "        error.append(reconstruction_error(x_hat, x))\n",
    "    e_x = (sum(error)/len(error)).cpu().detach()\n",
    "    e_x2 = (sum(map(lambda x: x**2, error))/len(error)).cpu().detach()\n",
    "    std = np.sqrt(e_x2 - (e_x)**2)\n",
    "    random.append(e_x)\n",
    "    error_random.append(std)"
   ]
  },
  {
   "cell_type": "markdown",
   "metadata": {},
   "source": [
    "## DWLS-random"
   ]
  },
  {
   "cell_type": "code",
   "execution_count": 10,
   "metadata": {},
   "outputs": [],
   "source": [
    "config['estimator_params']['potential'] = \"discriminator_weighted\"\n",
    "config['estimator_params']['lambda'] = 500\n",
    "config['estimator_params']['lambda_score'] = 1\n",
    "config['estimator_params']['discriminator_base_model'] = \"mnist/gan/dcgan\"\n",
    "config[\"estimator_params\"][\"initalisation\"] = \"random\""
   ]
  },
  {
   "cell_type": "code",
   "execution_count": 11,
   "metadata": {},
   "outputs": [
    {
     "name": "stderr",
     "output_type": "stream",
     "text": [
      "100%|██████████| 15/15 [03:23<00:00, 13.56s/it]\n"
     ]
    }
   ],
   "source": [
    "dwls_random = []\n",
    "error_dwls_random = []\n",
    "for num in trange(0, 750, 50):\n",
    "    config[\"operator_params\"][\"num_measurements\"] = num\n",
    "    ebm = make_energy_model(config, path=path)\n",
    "    ebm = ebm.to(\"cuda\")\n",
    "    ebm.kwargs[\"discriminator\"].to(\"cuda\")\n",
    "    error = []\n",
    "    for x, y in dm:\n",
    "        x = x.to(\"cuda\")\n",
    "        x_tilde = ebm.operator(x)\n",
    "        x_hat = ebm(x_tilde)\n",
    "        error.append(reconstruction_error(x_hat, x))\n",
    "    e_x = (sum(error)/len(error)).cpu().detach()\n",
    "    e_x2 = (sum(map(lambda x: x**2, error))/len(error)).cpu().detach()\n",
    "    std = np.sqrt(e_x2 - (e_x)**2)\n",
    "    dwls_random.append(e_x)\n",
    "    error_dwls_random.append(std)"
   ]
  },
  {
   "cell_type": "markdown",
   "metadata": {},
   "source": [
    "## DWLS-map"
   ]
  },
  {
   "cell_type": "code",
   "execution_count": 12,
   "metadata": {},
   "outputs": [],
   "source": [
    "config['estimator_params']['potential'] = \"discriminator_weighted\"\n",
    "config['estimator_params']['lambda'] = 500\n",
    "config['estimator_params']['lambda_score'] = 1\n",
    "config['estimator_params']['discriminator_base_model'] = \"mnist/gan/dcgan\"\n",
    "config[\"estimator_params\"][\"initalisation\"] = \"map_posterior\"\n",
    "config[\"estimator_params\"][\"num_steps_map_initaliser\"] = 100\n",
    "config[\"estimator_params\"][\"step_size_map_initaliser\"] = 0.1"
   ]
  },
  {
   "cell_type": "code",
   "execution_count": 13,
   "metadata": {},
   "outputs": [
    {
     "name": "stderr",
     "output_type": "stream",
     "text": [
      " 40%|████      | 6/15 [03:50<05:45, 38.43s/it]"
     ]
    }
   ],
   "source": [
    "dwls_map = []\n",
    "error_dwls_map = []\n",
    "for num in trange(0, 750, 50):\n",
    "    config[\"operator_params\"][\"num_measurements\"] = num\n",
    "    ebm = make_energy_model(config, path=path)\n",
    "    ebm = ebm.to(\"cuda\")\n",
    "    ebm.kwargs[\"discriminator\"].to(\"cuda\")\n",
    "    error = []\n",
    "    for x, y in dm:\n",
    "        x = x.to(\"cuda\")\n",
    "        x_tilde = ebm.operator(x)\n",
    "        x_hat = ebm(x_tilde)\n",
    "        error.append(reconstruction_error(x_hat, x))\n",
    "    e_x = (sum(error)/len(error)).cpu().detach()\n",
    "    e_x2 = (sum(map(lambda x: x**2, error))/len(error)).cpu().detach()\n",
    "    std = np.sqrt(e_x2 - (e_x)**2)\n",
    "    dwls_map.append(e_x)\n",
    "    error_dwls_map.append(std)"
   ]
  },
  {
   "cell_type": "code",
   "execution_count": null,
   "metadata": {},
   "outputs": [],
   "source": [
    "error = []\n",
    "for x, y in dm:\n",
    "    x = x.to(\"cuda\")\n",
    "    error.append(reconstruction_error(torch.zeros_like(x), x))\n",
    "baseline = (sum(error)/len(error)).cpu().detach()"
   ]
  },
  {
   "cell_type": "code",
   "execution_count": null,
   "metadata": {},
   "outputs": [
    {
     "data": {
      "image/png": "[encoded data removed]",
      "text/plain": [
       "<Figure size 640x480 with 1 Axes>"
      ]
     },
     "metadata": {},
     "output_type": "display_data"
    }
   ],
   "source": [
    "plt.xlabel('Number of measurements', fontsize=15)\n",
    "plt.ylabel('Reconstruction error (per pixel)', fontsize=15)\n",
    "plt.ylim(0, 0.15)\n",
    "plt.plot(list(range(0, 750, 50)), [baseline]*15)\n",
    "plt.errorbar(list(range(0, 750, 50)), random, yerr=error_random, fmt='-o')\n",
    "plt.errorbar(list(range(0, 750, 50)), dwls_random, yerr=error_dwls_random, fmt='-^')\n",
    "plt.errorbar(list(range(0, 750, 50)), map_posterior, yerr=error_map_posterior, fmt='-s')\n",
    "plt.errorbar(list(range(0, 750, 50)), dwls_map, yerr=error_dwls_map, fmt='-*')\n",
    "plt.legend(['baseline (zero estimate)','random initalisation', \"dwls_random\", 'map initalisation', \"dwls_map_initalisaiton\"])\n",
    "plt.show()"
   ]
  },
  {
   "cell_type": "markdown",
   "metadata": {},
   "source": [
    "# Compressed Sensing"
   ]
  },
  {
   "cell_type": "code",
   "execution_count": null,
   "metadata": {},
   "outputs": [],
   "source": [
    "config[\"operator_params\"][\"operator\"] = \"CompressedSensing\"\n",
    "config[\"operator_params\"][\"num_measurements\"] = 200\n",
    "config['estimator_params']['lambda'] = 1\n",
    "config['estimator_params']['potential'] = \"mse\"\n",
    "config[\"base_model_params\"][\"base_model\"] = \"vae\""
   ]
  },
  {
   "cell_type": "markdown",
   "metadata": {},
   "source": [
    "## Random"
   ]
  },
  {
   "cell_type": "code",
   "execution_count": null,
   "metadata": {},
   "outputs": [],
   "source": [
    "config[\"estimator_params\"][\"initalisation\"] = \"random\""
   ]
  },
  {
   "cell_type": "code",
   "execution_count": null,
   "metadata": {},
   "outputs": [],
   "source": [
    "random = []\n",
    "error_random = []\n",
    "for num in trange(0, 750, 50):\n",
    "    config[\"operator_params\"][\"num_measurements\"] = num\n",
    "    ebm = make_energy_model(config, path=path)\n",
    "    ebm = ebm.to(\"cuda\")\n",
    "    error = []\n",
    "    for x, y in dm:\n",
    "        x = x.to(\"cuda\")\n",
    "        x_tilde = ebm.operator(x)\n",
    "        x_hat = ebm(x_tilde)\n",
    "        error.append(reconstruction_error(x_hat, x))\n",
    "    e_x = (sum(error)/len(error)).cpu().detach()\n",
    "    e_x2 = (sum(map(lambda x: x**2, error))/len(error)).cpu().detach()\n",
    "    std = np.sqrt(e_x2 - (e_x)**2)\n",
    "    random.append(e_x)\n",
    "    error_random.append(std)"
   ]
  },
  {
   "cell_type": "markdown",
   "metadata": {},
   "source": [
    "## MAP-initalisation"
   ]
  },
  {
   "cell_type": "code",
   "execution_count": null,
   "metadata": {},
   "outputs": [],
   "source": [
    "config[\"estimator_params\"][\"initalisation\"] = \"map_posterior\"\n",
    "config[\"estimator_params\"][\"num_steps_map_initaliser\"] = 100\n",
    "config[\"estimator_params\"][\"step_size_map_initaliser\"] = 0.1"
   ]
  },
  {
   "cell_type": "code",
   "execution_count": null,
   "metadata": {},
   "outputs": [],
   "source": [
    "map_posterior = []\n",
    "error_map_posterior = []\n",
    "for num in trange(0, 750, 50):\n",
    "    config[\"operator_params\"][\"num_measurements\"] = num\n",
    "    ebm = make_energy_model(config, path=path)\n",
    "    ebm = ebm.to(\"cuda\")\n",
    "    error = []\n",
    "    for x, y in dm:\n",
    "        x = x.to(\"cuda\")\n",
    "        x_tilde = ebm.operator(x)\n",
    "        x_hat = ebm(x_tilde)\n",
    "        error.append(reconstruction_error(x_hat, x))\n",
    "    e_x = (sum(error)/len(error)).cpu().detach()\n",
    "    e_x2 = (sum(map(lambda x: x**2, error))/len(error)).cpu().detach()\n",
    "    std = np.sqrt(e_x2 - (e_x)**2)\n",
    "    map_posterior.append(e_x)\n",
    "    error_map_posterior.append(std)"
   ]
  },
  {
   "cell_type": "markdown",
   "metadata": {},
   "source": [
    "## dwls-random"
   ]
  },
  {
   "cell_type": "code",
   "execution_count": null,
   "metadata": {},
   "outputs": [],
   "source": [
    "config['estimator_params']['potential'] = \"discriminator_weighted\"\n",
    "config['estimator_params']['lambda'] = 500\n",
    "config['estimator_params']['lambda_score'] = 1\n",
    "config['estimator_params']['discriminator_base_model'] = \"mnist/gan/dcgan\"\n",
    "config[\"estimator_params\"][\"initalisation\"] = \"random\""
   ]
  },
  {
   "cell_type": "code",
   "execution_count": null,
   "metadata": {},
   "outputs": [],
   "source": [
    "dwls_random = []\n",
    "error_dwls_random = []\n",
    "for num in trange(0, 750, 50):\n",
    "    config[\"operator_params\"][\"num_measurements\"] = num\n",
    "    ebm = make_energy_model(config, path=path)\n",
    "    ebm = ebm.to(\"cuda\")\n",
    "    ebm.kwargs[\"discriminator\"].to(\"cuda\")\n",
    "    error = []\n",
    "    for x, y in dm:\n",
    "        x = x.to(\"cuda\")\n",
    "        x_tilde = ebm.operator(x)\n",
    "        x_hat = ebm(x_tilde)\n",
    "        error.append(reconstruction_error(x_hat, x))\n",
    "    e_x = (sum(error)/len(error)).cpu().detach()\n",
    "    e_x2 = (sum(map(lambda x: x**2, error))/len(error)).cpu().detach()\n",
    "    std = np.sqrt(e_x2 - (e_x)**2)\n",
    "    dwls_random.append(e_x)\n",
    "    error_dwls_random.append(std)"
   ]
  },
  {
   "cell_type": "markdown",
   "metadata": {},
   "source": [
    "## dwls-map-posterior"
   ]
  },
  {
   "cell_type": "code",
   "execution_count": null,
   "metadata": {},
   "outputs": [],
   "source": [
    "config['estimator_params']['potential'] = \"discriminator_weighted\"\n",
    "config['estimator_params']['lambda'] = 500\n",
    "config['estimator_params']['lambda_score'] = 1\n",
    "config['estimator_params']['discriminator_base_model'] = \"mnist/gan/dcgan\"\n",
    "config[\"estimator_params\"][\"initalisation\"] = \"map_posterior\"\n",
    "config[\"estimator_params\"][\"num_steps_map_initaliser\"] = 100\n",
    "config[\"estimator_params\"][\"step_size_map_initaliser\"] = 0.1"
   ]
  },
  {
   "cell_type": "code",
   "execution_count": null,
   "metadata": {},
   "outputs": [],
   "source": [
    "dwls_map = []\n",
    "error_dwls_map = []\n",
    "for num in trange(0, 750, 50):\n",
    "    config[\"operator_params\"][\"num_measurements\"] = num\n",
    "    ebm = make_energy_model(config, path=path)\n",
    "    ebm = ebm.to(\"cuda\")\n",
    "    ebm.kwargs[\"discriminator\"].to(\"cuda\")\n",
    "    error = []\n",
    "    for x, y in dm:\n",
    "        x = x.to(\"cuda\")\n",
    "        x_tilde = ebm.operator(x)\n",
    "        x_hat = ebm(x_tilde)\n",
    "        error.append(reconstruction_error(x_hat, x))\n",
    "    e_x = (sum(error)/len(error)).cpu().detach()\n",
    "    e_x2 = (sum(map(lambda x: x**2, error))/len(error)).cpu().detach()\n",
    "    std = np.sqrt(e_x2 - (e_x)**2)\n",
    "    dwls_map.append(e_x)\n",
    "    error_dwls_map.append(std)"
   ]
  },
  {
   "cell_type": "code",
   "execution_count": null,
   "metadata": {},
   "outputs": [],
   "source": [
    "error = []\n",
    "for x, y in dm:\n",
    "    x = x.to(\"cuda\")\n",
    "    error.append(reconstruction_error(torch.zeros_like(x), x))\n",
    "baseline = (sum(error)/len(error)).cpu().detach()"
   ]
  },
  {
   "cell_type": "code",
   "execution_count": null,
   "metadata": {},
   "outputs": [],
   "source": [
    "plt.xlabel('Number of measurements', fontsize=15)\n",
    "plt.ylabel('Reconstruction error (per pixel)', fontsize=15)\n",
    "plt.ylim(0, 0.15)\n",
    "plt.plot(list(range(0, 750, 50)), [baseline]*15)\n",
    "plt.errorbar(list(range(0, 750, 50)), random, yerr=error_random, fmt='-o')\n",
    "plt.errorbar(list(range(0, 750, 50)), dwls_random, yerr=error_dwls_random, fmt='-^')\n",
    "plt.errorbar(list(range(0, 750, 50)), map_posterior, yerr=error_map_posterior, fmt='-s')\n",
    "plt.errorbar(list(range(0, 750, 50)), dwls_map, yerr=error_dwls_map, fmt='-*')\n",
    "plt.legend(['baseline (zero estimate)','random initalisation', \"dwls_random\", 'map initalisation', \"dwls_map_initalisaiton\"])\n",
    "plt.show()"
   ]
  },
  {
   "cell_type": "markdown",
   "metadata": {},
   "source": [
    "# Denoising"
   ]
  },
  {
   "cell_type": "code",
   "execution_count": null,
   "metadata": {},
   "outputs": [],
   "source": [
    "config[\"operator_params\"][\"operator\"] = \"GuassianNoise\"\n",
    "config[\"operator_params\"][\"noise_level\"] = 0.5"
   ]
  },
  {
   "cell_type": "markdown",
   "metadata": {},
   "source": [
    "## Random"
   ]
  },
  {
   "cell_type": "code",
   "execution_count": null,
   "metadata": {},
   "outputs": [],
   "source": [
    "config[\"estimator_params\"][\"initalisation\"] = \"random\""
   ]
  },
  {
   "cell_type": "code",
   "execution_count": null,
   "metadata": {},
   "outputs": [],
   "source": [
    "random = []\n",
    "error_random = []\n",
    "for num in trange(0, 16):\n",
    "    config[\"operator_params\"][\"noise_level\"] = num/15\n",
    "    ebm = make_energy_model(config, path=path)\n",
    "    ebm = ebm.to(\"cuda\")\n",
    "    error = []\n",
    "    for x, y in dm:\n",
    "        x = x.to(\"cuda\")\n",
    "        x_tilde = ebm.operator(x)\n",
    "        x_hat = ebm(x_tilde)\n",
    "        error.append(reconstruction_error(x_hat, x))\n",
    "    e_x = (sum(error)/len(error)).cpu().detach()\n",
    "    e_x2 = (sum(map(lambda x: x**2, error))/len(error)).cpu().detach()\n",
    "    std = np.sqrt(e_x2 - (e_x)**2)\n",
    "    random.append(e_x)\n",
    "    error_random.append(std)"
   ]
  },
  {
   "cell_type": "markdown",
   "metadata": {},
   "source": [
    "## MAP-posterior"
   ]
  },
  {
   "cell_type": "code",
   "execution_count": null,
   "metadata": {},
   "outputs": [],
   "source": [
    "config[\"estimator_params\"][\"initalisation\"] = \"map_posterior\"\n",
    "config[\"estimator_params\"][\"num_steps_map_initaliser\"] = 100\n",
    "config[\"estimator_params\"][\"step_size_map_initaliser\"] = 0.1"
   ]
  },
  {
   "cell_type": "code",
   "execution_count": null,
   "metadata": {},
   "outputs": [],
   "source": [
    "map_posterior = []\n",
    "error_map_posterior = []\n",
    "for num in trange(0, 16):\n",
    "    config[\"operator_params\"][\"noise_level\"] = num/15\n",
    "    ebm = make_energy_model(config, path=path)\n",
    "    emb = ebm.to(\"cuda\")\n",
    "    error = []\n",
    "    for x, y in dm:\n",
    "        x = x.to(\"cuda\")\n",
    "        x_tilde = ebm.operator(x)\n",
    "        x_hat = ebm(x_tilde)\n",
    "        error.append(reconstruction_error(x_hat, x))\n",
    "    e_x = (sum(error)/len(error)).cpu().detach()\n",
    "    e_x2 = (sum(map(lambda x: x**2, error))/len(error)).cpu().detach()\n",
    "    std = np.sqrt(e_x2 - (e_x)**2)\n",
    "    map_posterior.append(e_x)\n",
    "    error_map_posterior.append(std)"
   ]
  },
  {
   "cell_type": "markdown",
   "metadata": {},
   "source": [
    "## DWLS-random"
   ]
  },
  {
   "cell_type": "code",
   "execution_count": null,
   "metadata": {},
   "outputs": [],
   "source": [
    "config['estimator_params']['potential'] = \"discriminator_weighted\"\n",
    "config['estimator_params']['lambda'] = 500\n",
    "config['estimator_params']['lambda_score'] = 1\n",
    "config['estimator_params']['discriminator_base_model'] = \"mnist/gan/dcgan\"\n",
    "config[\"estimator_params\"][\"initalisation\"] = \"random\""
   ]
  },
  {
   "cell_type": "code",
   "execution_count": null,
   "metadata": {},
   "outputs": [],
   "source": [
    "dwls_random = []\n",
    "error_dwls_random = []\n",
    "for num in trange(0, 16):\n",
    "    config[\"operator_params\"][\"noise_level\"] = num/15\n",
    "    ebm = make_energy_model(config, path=path)\n",
    "    ebm = ebm.to(\"cuda\")\n",
    "    ebm.kwargs[\"discriminator\"].to(\"cuda\")\n",
    "    error = []\n",
    "    for x, y in dm:\n",
    "        x = x.to(\"cuda\")\n",
    "        x_tilde = ebm.operator(x)\n",
    "        x_hat = ebm(x_tilde)\n",
    "        error.append(reconstruction_error(x_hat, x))\n",
    "    e_x = (sum(error)/len(error)).cpu().detach()\n",
    "    e_x2 = (sum(map(lambda x: x**2, error))/len(error)).cpu().detach()\n",
    "    std = np.sqrt(e_x2 - (e_x)**2)\n",
    "    dwls_random.append(e_x)\n",
    "    error_dwls_random.append(std)"
   ]
  },
  {
   "cell_type": "markdown",
   "metadata": {},
   "source": [
    "## DWLS-map-initalisation"
   ]
  },
  {
   "cell_type": "code",
   "execution_count": null,
   "metadata": {},
   "outputs": [],
   "source": [
    "config['estimator_params']['potential'] = \"discriminator_weighted\"\n",
    "config['estimator_params']['lambda'] = 500\n",
    "config['estimator_params']['lambda_score'] = 1\n",
    "config['estimator_params']['discriminator_base_model'] = \"mnist/gan/dcgan\"\n",
    "config[\"estimator_params\"][\"initalisation\"] = \"map_posterior\"\n",
    "config[\"estimator_params\"][\"num_steps_map_initaliser\"] = 100\n",
    "config[\"estimator_params\"][\"step_size_map_initaliser\"] = 0.1"
   ]
  },
  {
   "cell_type": "code",
   "execution_count": null,
   "metadata": {},
   "outputs": [],
   "source": [
    "dwls_map = []\n",
    "error_dwls_map = []\n",
    "for num in trange(0, 16):\n",
    "    config[\"operator_params\"][\"noise_level\"] = num/15\n",
    "    ebm = make_energy_model(config, path=path)\n",
    "    ebm = ebm.to(\"cuda\")\n",
    "    ebm.kwargs[\"discriminator\"].to(\"cuda\")\n",
    "    error = []\n",
    "    for x, y in dm:\n",
    "        x = x.to(\"cuda\")\n",
    "        x_tilde = ebm.operator(x)\n",
    "        x_hat = ebm(x_tilde)\n",
    "        error.append(reconstruction_error(x_hat, x))\n",
    "    e_x = (sum(error)/len(error)).cpu().detach()\n",
    "    e_x2 = (sum(map(lambda x: x**2, error))/len(error)).cpu().detach()\n",
    "    std = np.sqrt(e_x2 - (e_x)**2)\n",
    "    dwls_map.append(e_x)\n",
    "    error_dwls_map.append(std)"
   ]
  },
  {
   "cell_type": "code",
   "execution_count": null,
   "metadata": {},
   "outputs": [],
   "source": [
    "error = []\n",
    "for x, y in dm:\n",
    "    x = x.to(\"cuda\")\n",
    "    error.append(reconstruction_error(torch.zeros_like(x), x))\n",
    "baseline = (sum(error)/len(error)).cpu().detach()"
   ]
  },
  {
   "cell_type": "code",
   "execution_count": null,
   "metadata": {},
   "outputs": [],
   "source": [
    "plt.xlabel('Noise Level', fontsize=15)\n",
    "plt.ylabel('Reconstruction error (per pixel)', fontsize=15)\n",
    "plt.ylim(0, 0.15)\n",
    "noise = [i/15.0 for i in range(0, 16)]\n",
    "plt.plot(noise, [baseline]*16)\n",
    "plt.errorbar(noise, random, yerr=error_random, fmt='-o')\n",
    "plt.errorbar(noise, random, dwls_random, yerr=error_dwls_random, fmt='-^')\n",
    "plt.errorbar(noise, map_posterior, yerr=error_map_posterior, fmt='-s')\n",
    "plt.errorbar(noise, dwls_map, yerr=error_dwls_map, fmt='-*')\n",
    "plt.legend(['baseline (zero estimate)','random initalisation', \"dwls_random\", 'map initalisation', \"dwls_map_initalisaiton\"])\n",
    "plt.show()"
   ]
  },
  {
   "cell_type": "code",
   "execution_count": null,
   "metadata": {},
   "outputs": [],
   "source": []
  }
 ],
 "metadata": {
  "interpreter": {
   "hash": "67ebdc3d7c5b8aee60e0976b3f0ba5a9f39f0ef6024b87b4abda2f48caa7c7ff"
  },
  "kernelspec": {
   "display_name": "Python 3.7.11 64-bit ('dgflowenv': conda)",
   "name": "python3"
  },
  "language_info": {
   "codemirror_mode": {
    "name": "ipython",
    "version": 3
   },
   "file_extension": ".py",
   "mimetype": "text/x-python",
   "name": "python",
   "nbconvert_exporter": "python",
   "pygments_lexer": "ipython3",
   "version": "3.7.11"
  },
  "orig_nbformat": 4
 },
 "nbformat": 4,
 "nbformat_minor": 2
}
