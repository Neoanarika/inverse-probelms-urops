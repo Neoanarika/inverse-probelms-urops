{
 "cells": [
  {
   "cell_type": "code",
   "execution_count": 1,
   "metadata": {},
   "outputs": [],
   "source": [
    "import sys\n",
    "sys.path.append(\"..\")\n",
    "\n",
    "import torch\n",
    "import numpy as np\n",
    "import matplotlib.pyplot as plt\n",
    "from einops import rearrange\n",
    "from tqdm import trange\n",
    "from torch.nn import functional as F\n",
    "from utils.download_mnist import mnist_dataloader_test\n",
    "from assembler import get_config, get_config_ebm, make_energy_model\n",
    "from utils.config import show \n",
    "\n",
    "path = !cd .. && pwd\n",
    "path = path[0]\n",
    "\n",
    "def plotable(img):\n",
    "    return rearrange(img, \"b c h w -> (b c h) w \").cpu().detach().numpy()\n",
    "\n",
    "def get_model_config(model_name):\n",
    "    dataset, model, sampling, task = model_name.split(\"/\")\n",
    "    name = f\"{sampling}/{task}\"\n",
    "    config = get_config(get_config_ebm, dataset, model, name, path=path)\n",
    "    return config\n",
    "\n",
    "def experiment(config, x):\n",
    "    ebm = make_energy_model(config, path=path)\n",
    "    \n",
    "    # The math\n",
    "    x_tilde = ebm.operator(x)\n",
    "    x_hat = ebm(x_tilde)\n",
    "    \n",
    "    # The result\n",
    "    fig, axs = plt.subplots(nrows = 1, ncols = 2)\n",
    "    axs[0].set_title(\"original\")\n",
    "    axs[0].imshow(plotable(x))\n",
    "    axs[1].set_title(\"estimation\")\n",
    "    axs[1].imshow(plotable(x_hat))\n",
    "    plt.show()\n",
    "\n",
    "def reconstruction_error(x_hat, x, reduction=\"mean\"):\n",
    "    return F.mse_loss(x_hat, x, reduction=reduction)"
   ]
  },
  {
   "cell_type": "code",
   "execution_count": 2,
   "metadata": {},
   "outputs": [
    {
     "name": "stderr",
     "output_type": "stream",
     "text": [
      "/home/mingliang/anaconda3/envs/dgflowenv/lib/python3.7/site-packages/torchvision/datasets/mnist.py:498: UserWarning: The given NumPy array is not writeable, and PyTorch does not support non-writeable tensors. This means you can write to the underlying (supposedly non-writeable) NumPy array using the tensor. You may want to copy the array to protect its data or make it writeable before converting it to a tensor. This type of warning will be suppressed for the rest of this program. (Triggered internally at  /opt/conda/conda-bld/pytorch_1623448265233/work/torch/csrc/utils/tensor_numpy.cpp:180.)\n",
      "  return torch.from_numpy(parsed.astype(m[2], copy=False)).view(*s)\n"
     ]
    }
   ],
   "source": [
    "model_name = \"mnist/vae/langevin/inpainting\"\n",
    "config = get_model_config(model_name)\n",
    "config[\"exp_params\"][\"batch_size\"] = 100\n",
    "dm = mnist_dataloader_test(config, path=path)"
   ]
  },
  {
   "cell_type": "markdown",
   "metadata": {},
   "source": [
    "# Inpainting "
   ]
  },
  {
   "cell_type": "code",
   "execution_count": 3,
   "metadata": {},
   "outputs": [],
   "source": [
    "config[\"operator_params\"][\"operator\"] = \"RandomOcclude\""
   ]
  },
  {
   "cell_type": "markdown",
   "metadata": {},
   "source": [
    "## MAP initalisation"
   ]
  },
  {
   "cell_type": "code",
   "execution_count": 4,
   "metadata": {},
   "outputs": [],
   "source": [
    "config[\"estimator_params\"][\"initalisation\"] = \"map_posterior\"\n",
    "config[\"estimator_params\"][\"num_steps_map_initaliser\"] = 100\n",
    "config[\"estimator_params\"][\"step_size_map_initaliser\"] = 0.1"
   ]
  },
  {
   "cell_type": "code",
   "execution_count": 5,
   "metadata": {},
   "outputs": [
    {
     "name": "stderr",
     "output_type": "stream",
     "text": [
      "  0%|          | 0/15 [00:00<?, ?it/s]"
     ]
    }
   ],
   "source": [
    "map_posterior = []\n",
    "error_map_posterior = []\n",
    "for num in trange(0, 750, 50):\n",
    "    config[\"operator_params\"][\"num_measurements\"] = num\n",
    "    ebm = make_energy_model(config, path=path)\n",
    "    ebm = ebm.to(\"cuda\")\n",
    "    error = []\n",
    "    for x, y in dm:\n",
    "        x = x.to(\"cuda\")\n",
    "        x_tilde = ebm.operator(x)\n",
    "        x_hat = ebm(x_tilde)\n",
    "        error.append(reconstruction_error(x_hat, x))\n",
    "    e_x = (sum(error)/len(error)).cpu().detach()\n",
    "    e_x2 = (sum(map(lambda x: x**2, error))/len(error)).cpu().detach()\n",
    "    std = np.sqrt(e_x2 - (e_x)**2)\n",
    "    map_posterior.append(e_x)\n",
    "    error_map_posterior.append(std)"
   ]
  },
  {
   "cell_type": "markdown",
   "metadata": {},
   "source": [
    "## Random"
   ]
  },
  {
   "cell_type": "code",
   "execution_count": null,
   "metadata": {},
   "outputs": [],
   "source": [
    "config[\"estimator_params\"][\"initalisation\"] = \"random\""
   ]
  },
  {
   "cell_type": "code",
   "execution_count": null,
   "metadata": {},
   "outputs": [
    {
     "name": "stderr",
     "output_type": "stream",
     "text": [
      "100%|██████████| 15/15 [01:21<00:00,  5.45s/it]\n"
     ]
    }
   ],
   "source": [
    "random = []\n",
    "error_random = []\n",
    "for num in trange(0, 750, 50):\n",
    "    config[\"operator_params\"][\"num_measurements\"] = num\n",
    "    ebm = make_energy_model(config, path=path)\n",
    "    ebm = ebm.to(\"cuda\")\n",
    "    error = []\n",
    "    for x, y in dm:\n",
    "        x = x.to(\"cuda\")\n",
    "        x_tilde = ebm.operator(x)\n",
    "        x_hat = ebm(x_tilde)\n",
    "        error.append(reconstruction_error(x_hat, x))\n",
    "    e_x = (sum(error)/len(error)).cpu().detach()\n",
    "    e_x2 = (sum(map(lambda x: x**2, error))/len(error)).cpu().detach()\n",
    "    std = np.sqrt(e_x2 - (e_x)**2)\n",
    "    random.append(e_x)\n",
    "    error_random.append(std)"
   ]
  },
  {
   "cell_type": "markdown",
   "metadata": {},
   "source": [
    "## DWLS-random"
   ]
  },
  {
   "cell_type": "code",
   "execution_count": null,
   "metadata": {},
   "outputs": [],
   "source": [
    "config['estimator_params']['potential'] = \"discriminator_weighted\"\n",
    "config['estimator_params']['lambda'] = 1\n",
    "config['estimator_params']['lambda_score'] = 1\n",
    "config['estimator_params']['discriminator_base_model'] = \"mnist/gan/dcgan\"\n",
    "config[\"estimator_params\"][\"initalisation\"] = \"random\""
   ]
  },
  {
   "cell_type": "code",
   "execution_count": null,
   "metadata": {},
   "outputs": [
    {
     "name": "stderr",
     "output_type": "stream",
     "text": [
      "100%|██████████| 15/15 [03:23<00:00, 13.56s/it]\n"
     ]
    }
   ],
   "source": [
    "dwls_random = []\n",
    "error_dwls_random = []\n",
    "for num in trange(0, 750, 50):\n",
    "    config[\"operator_params\"][\"num_measurements\"] = num\n",
    "    ebm = make_energy_model(config, path=path)\n",
    "    ebm = ebm.to(\"cuda\")\n",
    "    ebm.kwargs[\"discriminator\"].to(\"cuda\")\n",
    "    error = []\n",
    "    for x, y in dm:\n",
    "        x = x.to(\"cuda\")\n",
    "        x_tilde = ebm.operator(x)\n",
    "        x_hat = ebm(x_tilde)\n",
    "        error.append(reconstruction_error(x_hat, x))\n",
    "    e_x = (sum(error)/len(error)).cpu().detach()\n",
    "    e_x2 = (sum(map(lambda x: x**2, error))/len(error)).cpu().detach()\n",
    "    std = np.sqrt(e_x2 - (e_x)**2)\n",
    "    dwls_random.append(e_x)\n",
    "    error_dwls_random.append(std)"
   ]
  },
  {
   "cell_type": "markdown",
   "metadata": {},
   "source": [
    "## DWLS-random-fine-tune"
   ]
  },
  {
   "cell_type": "code",
   "execution_count": null,
   "metadata": {},
   "outputs": [],
   "source": [
    "config['estimator_params']['potential'] = \"discriminator_weighted\"\n",
    "config['estimator_params']['lambda'] = 1\n",
    "config['estimator_params']['lambda_score'] = 1\n",
    "config['estimator_params']['discriminator_base_model'] = \"mnist/gan/dcgan\"\n",
    "config[\"estimator_params\"][\"initalisation\"] = \"random\"\n",
    "config[\"estimator_params\"][\"num_steps_finetune\"] = 5\n",
    "config[\"estimator_params\"][\"num_samples_for_finetune\"] = 1000"
   ]
  },
  {
   "cell_type": "code",
   "execution_count": null,
   "metadata": {},
   "outputs": [],
   "source": [
    "dwls_random_finetune = []\n",
    "error_dwls_random_finetune = []\n",
    "for num in trange(0, 750, 50):\n",
    "    config[\"operator_params\"][\"num_measurements\"] = num\n",
    "    ebm = make_energy_model(config, path=path)\n",
    "    ebm = ebm.to(\"cuda\")\n",
    "    ebm.kwargs[\"discriminator\"].to(\"cuda\")\n",
    "    error = []\n",
    "    for x, y in dm:\n",
    "        x = x.to(\"cuda\")\n",
    "        x_tilde = ebm.operator(x)\n",
    "        x_hat = ebm(x_tilde)\n",
    "        error.append(reconstruction_error(x_hat, x))\n",
    "    e_x = (sum(error)/len(error)).cpu().detach()\n",
    "    e_x2 = (sum(map(lambda x: x**2, error))/len(error)).cpu().detach()\n",
    "    std = np.sqrt(e_x2 - (e_x)**2)\n",
    "    dwls_random_finetune.append(e_x)\n",
    "    error_dwls_random_finetune.append(std)"
   ]
  },
  {
   "cell_type": "markdown",
   "metadata": {},
   "source": [
    "## DWLS-map"
   ]
  },
  {
   "cell_type": "code",
   "execution_count": null,
   "metadata": {},
   "outputs": [],
   "source": [
    "config['estimator_params']['potential'] = \"discriminator_weighted\"\n",
    "config['estimator_params']['lambda'] = 1\n",
    "config['estimator_params']['lambda_score'] = 1\n",
    "config['estimator_params']['discriminator_base_model'] = \"mnist/gan/dcgan\"\n",
    "config[\"estimator_params\"][\"initalisation\"] = \"map_posterior\"\n",
    "config[\"estimator_params\"][\"num_steps_map_initaliser\"] = 100\n",
    "config[\"estimator_params\"][\"step_size_map_initaliser\"] = 0.1\n",
    "del config[\"estimator_params\"][\"num_steps_finetune\"]\n",
    "del config[\"estimator_params\"][\"num_samples_for_finetune\"]"
   ]
  },
  {
   "cell_type": "code",
   "execution_count": null,
   "metadata": {},
   "outputs": [
    {
     "name": "stderr",
     "output_type": "stream",
     "text": [
      "100%|██████████| 15/15 [09:36<00:00, 38.41s/it]\n"
     ]
    }
   ],
   "source": [
    "dwls_map = []\n",
    "error_dwls_map = []\n",
    "for num in trange(0, 750, 50):\n",
    "    config[\"operator_params\"][\"num_measurements\"] = num\n",
    "    ebm = make_energy_model(config, path=path)\n",
    "    ebm = ebm.to(\"cuda\")\n",
    "    ebm.kwargs[\"discriminator\"].to(\"cuda\")\n",
    "    error = []\n",
    "    for x, y in dm:\n",
    "        x = x.to(\"cuda\")\n",
    "        x_tilde = ebm.operator(x)\n",
    "        x_hat = ebm(x_tilde)\n",
    "        error.append(reconstruction_error(x_hat, x))\n",
    "    e_x = (sum(error)/len(error)).cpu().detach()\n",
    "    e_x2 = (sum(map(lambda x: x**2, error))/len(error)).cpu().detach()\n",
    "    std = np.sqrt(e_x2 - (e_x)**2)\n",
    "    dwls_map.append(e_x)\n",
    "    error_dwls_map.append(std)"
   ]
  },
  {
   "cell_type": "markdown",
   "metadata": {},
   "source": [
    "## DWLS-map-finetune"
   ]
  },
  {
   "cell_type": "code",
   "execution_count": null,
   "metadata": {},
   "outputs": [],
   "source": [
    "config['estimator_params']['potential'] = \"discriminator_weighted\"\n",
    "config['estimator_params']['lambda'] = 1\n",
    "config['estimator_params']['lambda_score'] = 1\n",
    "config['estimator_params']['discriminator_base_model'] = \"mnist/gan/dcgan\"\n",
    "config[\"estimator_params\"][\"initalisation\"] = \"map_posterior\"\n",
    "config[\"estimator_params\"][\"num_steps_map_initaliser\"] = 100\n",
    "config[\"estimator_params\"][\"step_size_map_initaliser\"] = 0.1"
   ]
  },
  {
   "cell_type": "code",
   "execution_count": null,
   "metadata": {},
   "outputs": [],
   "source": [
    "dwls_map_finetune = []\n",
    "error_dwls_map_finetune = []\n",
    "for num in trange(0, 750, 50):\n",
    "    config[\"operator_params\"][\"num_measurements\"] = num\n",
    "    ebm = make_energy_model(config, path=path)\n",
    "    ebm = ebm.to(\"cuda\")\n",
    "    ebm.kwargs[\"discriminator\"].to(\"cuda\")\n",
    "    error = []\n",
    "    for x, y in dm:\n",
    "        x = x.to(\"cuda\")\n",
    "        x_tilde = ebm.operator(x)\n",
    "        x_hat = ebm(x_tilde)\n",
    "        error.append(reconstruction_error(x_hat, x))\n",
    "    e_x = (sum(error)/len(error)).cpu().detach()\n",
    "    e_x2 = (sum(map(lambda x: x**2, error))/len(error)).cpu().detach()\n",
    "    std = np.sqrt(e_x2 - (e_x)**2)\n",
    "    dwls_map_finetune.append(e_x)\n",
    "    error_dwls_map_finetune.append(std)"
   ]
  },
  {
   "cell_type": "code",
   "execution_count": null,
   "metadata": {},
   "outputs": [],
   "source": [
    "error = []\n",
    "for x, y in dm:\n",
    "    x = x.to(\"cuda\")\n",
    "    error.append(reconstruction_error(torch.zeros_like(x), x))\n",
    "baseline = (sum(error)/len(error)).cpu().detach()"
   ]
  },
  {
   "cell_type": "code",
   "execution_count": null,
   "metadata": {},
   "outputs": [
    {
     "data": {
      "image/png": "[encoded data removed]",
      "text/plain": [
       "<Figure size 640x480 with 1 Axes>"
      ]
     },
     "metadata": {},
     "output_type": "display_data"
    }
   ],
   "source": [
    "plt.xlabel('Number of measurements', fontsize=15)\n",
    "plt.ylabel('Reconstruction error (per pixel)', fontsize=15)\n",
    "plt.ylim(0, 0.15)\n",
    "plt.plot(list(range(0, 750, 50)), [baseline]*15)\n",
    "plt.errorbar(list(range(0, 750, 50)), random, yerr=error_random, fmt='-o')\n",
    "plt.errorbar(list(range(0, 750, 50)), dwls_random, yerr=error_dwls_random, fmt='-^')\n",
    "plt.errorbar(list(range(0, 750, 50)), dwls_random_finetune, yerr=error_dwls_random_finetune, fmt='-x')\n",
    "plt.errorbar(list(range(0, 750, 50)), map_posterior, yerr=error_map_posterior, fmt='-s')\n",
    "plt.errorbar(list(range(0, 750, 50)), dwls_map, yerr=error_dwls_map, fmt='-*')\n",
    "plt.errorbar(list(range(0, 750, 50)), dwls_map_finetune, yerr=error_dwls_map_finetune, fmt='-d')\n",
    "plt.legend(['baseline (zero estimate)','random initalisation', \"dwls_random\", \"dwls_random_finetune\", 'map initalisation', \"dwls_map_initalisaiton\", \"dwls_map_finetune\"])\n",
    "plt.show()"
   ]
  },
  {
   "cell_type": "markdown",
   "metadata": {},
   "source": [
    "# Compressed Sensing"
   ]
  },
  {
   "cell_type": "code",
   "execution_count": null,
   "metadata": {},
   "outputs": [],
   "source": [
    "config[\"operator_params\"][\"operator\"] = \"CompressedSensing\"\n",
    "config[\"operator_params\"][\"num_measurements\"] = 200\n",
    "config['estimator_params']['lambda'] = 1\n",
    "config['estimator_params']['potential'] = \"mse\"\n",
    "config[\"base_model_params\"][\"base_model\"] = \"vae\""
   ]
  },
  {
   "cell_type": "markdown",
   "metadata": {},
   "source": [
    "## Random"
   ]
  },
  {
   "cell_type": "code",
   "execution_count": null,
   "metadata": {},
   "outputs": [],
   "source": [
    "config[\"estimator_params\"][\"initalisation\"] = \"random\""
   ]
  },
  {
   "cell_type": "code",
   "execution_count": null,
   "metadata": {},
   "outputs": [
    {
     "name": "stderr",
     "output_type": "stream",
     "text": [
      "100%|██████████| 15/15 [01:23<00:00,  5.59s/it]\n"
     ]
    }
   ],
   "source": [
    "random = []\n",
    "error_random = []\n",
    "for num in trange(0, 750, 50):\n",
    "    config[\"operator_params\"][\"num_measurements\"] = num\n",
    "    ebm = make_energy_model(config, path=path)\n",
    "    ebm = ebm.to(\"cuda\")\n",
    "    error = []\n",
    "    for x, y in dm:\n",
    "        x = x.to(\"cuda\")\n",
    "        x_tilde = ebm.operator(x)\n",
    "        x_hat = ebm(x_tilde)\n",
    "        error.append(reconstruction_error(x_hat, x))\n",
    "    e_x = (sum(error)/len(error)).cpu().detach()\n",
    "    e_x2 = (sum(map(lambda x: x**2, error))/len(error)).cpu().detach()\n",
    "    std = np.sqrt(e_x2 - (e_x)**2)\n",
    "    random.append(e_x)\n",
    "    error_random.append(std)"
   ]
  },
  {
   "cell_type": "markdown",
   "metadata": {},
   "source": [
    "## MAP-initalisation"
   ]
  },
  {
   "cell_type": "code",
   "execution_count": null,
   "metadata": {},
   "outputs": [],
   "source": [
    "config[\"estimator_params\"][\"initalisation\"] = \"map_posterior\"\n",
    "config[\"estimator_params\"][\"num_steps_map_initaliser\"] = 100\n",
    "config[\"estimator_params\"][\"step_size_map_initaliser\"] = 0.1"
   ]
  },
  {
   "cell_type": "code",
   "execution_count": null,
   "metadata": {},
   "outputs": [
    {
     "name": "stderr",
     "output_type": "stream",
     "text": [
      "100%|██████████| 15/15 [07:53<00:00, 31.60s/it]\n"
     ]
    }
   ],
   "source": [
    "map_posterior = []\n",
    "error_map_posterior = []\n",
    "for num in trange(0, 750, 50):\n",
    "    config[\"operator_params\"][\"num_measurements\"] = num\n",
    "    ebm = make_energy_model(config, path=path)\n",
    "    ebm = ebm.to(\"cuda\")\n",
    "    error = []\n",
    "    for x, y in dm:\n",
    "        x = x.to(\"cuda\")\n",
    "        x_tilde = ebm.operator(x)\n",
    "        x_hat = ebm(x_tilde)\n",
    "        error.append(reconstruction_error(x_hat, x))\n",
    "    e_x = (sum(error)/len(error)).cpu().detach()\n",
    "    e_x2 = (sum(map(lambda x: x**2, error))/len(error)).cpu().detach()\n",
    "    std = np.sqrt(e_x2 - (e_x)**2)\n",
    "    map_posterior.append(e_x)\n",
    "    error_map_posterior.append(std)"
   ]
  },
  {
   "cell_type": "markdown",
   "metadata": {},
   "source": [
    "## dwls-random"
   ]
  },
  {
   "cell_type": "code",
   "execution_count": null,
   "metadata": {},
   "outputs": [],
   "source": [
    "config['estimator_params']['potential'] = \"discriminator_weighted\"\n",
    "config['estimator_params']['lambda'] = 1\n",
    "config['estimator_params']['lambda_score'] = 1\n",
    "config['estimator_params']['discriminator_base_model'] = \"mnist/gan/dcgan\"\n",
    "config[\"estimator_params\"][\"initalisation\"] = \"random\""
   ]
  },
  {
   "cell_type": "code",
   "execution_count": null,
   "metadata": {},
   "outputs": [
    {
     "name": "stderr",
     "output_type": "stream",
     "text": [
      "100%|██████████| 15/15 [03:23<00:00, 13.55s/it]\n"
     ]
    }
   ],
   "source": [
    "dwls_random = []\n",
    "error_dwls_random = []\n",
    "for num in trange(0, 750, 50):\n",
    "    config[\"operator_params\"][\"num_measurements\"] = num\n",
    "    ebm = make_energy_model(config, path=path)\n",
    "    ebm = ebm.to(\"cuda\")\n",
    "    ebm.kwargs[\"discriminator\"].to(\"cuda\")\n",
    "    error = []\n",
    "    for x, y in dm:\n",
    "        x = x.to(\"cuda\")\n",
    "        x_tilde = ebm.operator(x)\n",
    "        x_hat = ebm(x_tilde)\n",
    "        error.append(reconstruction_error(x_hat, x))\n",
    "    e_x = (sum(error)/len(error)).cpu().detach()\n",
    "    e_x2 = (sum(map(lambda x: x**2, error))/len(error)).cpu().detach()\n",
    "    std = np.sqrt(e_x2 - (e_x)**2)\n",
    "    dwls_random.append(e_x)\n",
    "    error_dwls_random.append(std)"
   ]
  },
  {
   "cell_type": "markdown",
   "metadata": {},
   "source": [
    "## dwls-random-finetune"
   ]
  },
  {
   "cell_type": "code",
   "execution_count": null,
   "metadata": {},
   "outputs": [],
   "source": [
    "config['estimator_params']['potential'] = \"discriminator_weighted\"\n",
    "config['estimator_params']['lambda'] = 1\n",
    "config['estimator_params']['lambda_score'] = 1\n",
    "config['estimator_params']['discriminator_base_model'] = \"mnist/gan/dcgan\"\n",
    "config[\"estimator_params\"][\"initalisation\"] = \"random\"\n",
    "config[\"estimator_params\"][\"num_steps_finetune\"] = 5\n",
    "config[\"estimator_params\"][\"num_samples_for_finetune\"] = 1000"
   ]
  },
  {
   "cell_type": "code",
   "execution_count": null,
   "metadata": {},
   "outputs": [],
   "source": [
    "dwls_random_finetune = []\n",
    "error_dwls_random_finetune = []\n",
    "for num in trange(0, 750, 50):\n",
    "    config[\"operator_params\"][\"num_measurements\"] = num\n",
    "    ebm = make_energy_model(config, path=path)\n",
    "    ebm = ebm.to(\"cuda\")\n",
    "    ebm.kwargs[\"discriminator\"].to(\"cuda\")\n",
    "    error = []\n",
    "    for x, y in dm:\n",
    "        x = x.to(\"cuda\")\n",
    "        x_tilde = ebm.operator(x)\n",
    "        x_hat = ebm(x_tilde)\n",
    "        error.append(reconstruction_error(x_hat, x))\n",
    "    e_x = (sum(error)/len(error)).cpu().detach()\n",
    "    e_x2 = (sum(map(lambda x: x**2, error))/len(error)).cpu().detach()\n",
    "    std = np.sqrt(e_x2 - (e_x)**2)\n",
    "    dwls_random_finetune.append(e_x)\n",
    "    error_dwls_random_finetune.append(std)"
   ]
  },
  {
   "cell_type": "markdown",
   "metadata": {},
   "source": [
    "## dwls-map-posterior"
   ]
  },
  {
   "cell_type": "code",
   "execution_count": null,
   "metadata": {},
   "outputs": [],
   "source": [
    "config['estimator_params']['potential'] = \"discriminator_weighted\"\n",
    "config['estimator_params']['lambda'] = 1\n",
    "config['estimator_params']['lambda_score'] = 1\n",
    "config['estimator_params']['discriminator_base_model'] = \"mnist/gan/dcgan\"\n",
    "config[\"estimator_params\"][\"initalisation\"] = \"map_posterior\"\n",
    "config[\"estimator_params\"][\"num_steps_map_initaliser\"] = 100\n",
    "config[\"estimator_params\"][\"step_size_map_initaliser\"] = 0.1\n",
    "del config[\"estimator_params\"][\"num_steps_finetune\"]\n",
    "del config[\"estimator_params\"][\"num_samples_for_finetune\"]"
   ]
  },
  {
   "cell_type": "code",
   "execution_count": null,
   "metadata": {},
   "outputs": [
    {
     "name": "stderr",
     "output_type": "stream",
     "text": [
      "100%|██████████| 15/15 [09:54<00:00, 39.63s/it]\n"
     ]
    }
   ],
   "source": [
    "dwls_map = []\n",
    "error_dwls_map = []\n",
    "for num in trange(0, 750, 50):\n",
    "    config[\"operator_params\"][\"num_measurements\"] = num\n",
    "    ebm = make_energy_model(config, path=path)\n",
    "    ebm = ebm.to(\"cuda\")\n",
    "    ebm.kwargs[\"discriminator\"].to(\"cuda\")\n",
    "    error = []\n",
    "    for x, y in dm:\n",
    "        x = x.to(\"cuda\")\n",
    "        x_tilde = ebm.operator(x)\n",
    "        x_hat = ebm(x_tilde)\n",
    "        error.append(reconstruction_error(x_hat, x))\n",
    "    e_x = (sum(error)/len(error)).cpu().detach()\n",
    "    e_x2 = (sum(map(lambda x: x**2, error))/len(error)).cpu().detach()\n",
    "    std = np.sqrt(e_x2 - (e_x)**2)\n",
    "    dwls_map.append(e_x)\n",
    "    error_dwls_map.append(std)"
   ]
  },
  {
   "cell_type": "markdown",
   "metadata": {},
   "source": [
    "## dwls-map-finetune"
   ]
  },
  {
   "cell_type": "code",
   "execution_count": null,
   "metadata": {},
   "outputs": [],
   "source": [
    "config['estimator_params']['potential'] = \"discriminator_weighted\"\n",
    "config['estimator_params']['lambda'] = 1\n",
    "config['estimator_params']['lambda_score'] = 1\n",
    "config['estimator_params']['discriminator_base_model'] = \"mnist/gan/dcgan\"\n",
    "config[\"estimator_params\"][\"initalisation\"] = \"map_posterior\"\n",
    "config[\"estimator_params\"][\"num_steps_map_initaliser\"] = 100\n",
    "config[\"estimator_params\"][\"step_size_map_initaliser\"] = 0.1\n",
    "config[\"estimator_params\"][\"num_steps_finetune\"] = 5\n",
    "config[\"estimator_params\"][\"num_samples_for_finetune\"] = 1000"
   ]
  },
  {
   "cell_type": "code",
   "execution_count": null,
   "metadata": {},
   "outputs": [],
   "source": [
    "dwls_map_finetune = []\n",
    "error_dwls_map_finetune = []\n",
    "for num in trange(0, 750, 50):\n",
    "    config[\"operator_params\"][\"num_measurements\"] = num\n",
    "    ebm = make_energy_model(config, path=path)\n",
    "    ebm = ebm.to(\"cuda\")\n",
    "    ebm.kwargs[\"discriminator\"].to(\"cuda\")\n",
    "    error = []\n",
    "    for x, y in dm:\n",
    "        x = x.to(\"cuda\")\n",
    "        x_tilde = ebm.operator(x)\n",
    "        x_hat = ebm(x_tilde)\n",
    "        error.append(reconstruction_error(x_hat, x))\n",
    "    e_x = (sum(error)/len(error)).cpu().detach()\n",
    "    e_x2 = (sum(map(lambda x: x**2, error))/len(error)).cpu().detach()\n",
    "    std = np.sqrt(e_x2 - (e_x)**2)\n",
    "    dwls_map_finetune.append(e_x)\n",
    "    error_dwls_map_finetune.append(std)"
   ]
  },
  {
   "cell_type": "code",
   "execution_count": null,
   "metadata": {},
   "outputs": [],
   "source": [
    "error = []\n",
    "for x, y in dm:\n",
    "    x = x.to(\"cuda\")\n",
    "    error.append(reconstruction_error(torch.zeros_like(x), x))\n",
    "baseline = (sum(error)/len(error)).cpu().detach()"
   ]
  },
  {
   "cell_type": "code",
   "execution_count": null,
   "metadata": {},
   "outputs": [
    {
     "data": {
      "image/png": "[encoded data removed]",
      "text/plain": [
       "<Figure size 640x480 with 1 Axes>"
      ]
     },
     "metadata": {},
     "output_type": "display_data"
    }
   ],
   "source": [
    "plt.xlabel('Number of measurements', fontsize=15)\n",
    "plt.ylabel('Reconstruction error (per pixel)', fontsize=15)\n",
    "plt.ylim(0, 0.15)\n",
    "plt.plot(list(range(0, 750, 50)), [baseline]*15)\n",
    "plt.errorbar(list(range(0, 750, 50)), random, yerr=error_random, fmt='-o')\n",
    "plt.errorbar(list(range(0, 750, 50)), dwls_random, yerr=error_dwls_random, fmt='-^')\n",
    "plt.errorbar(list(range(0, 750, 50)), dwls_random_finetune, yerr=error_dwls_random_finetune, fmt='-x')\n",
    "plt.errorbar(list(range(0, 750, 50)), map_posterior, yerr=error_map_posterior, fmt='-s')\n",
    "plt.errorbar(list(range(0, 750, 50)), dwls_map, yerr=error_dwls_map, fmt='-*')\n",
    "plt.errorbar(list(range(0, 750, 50)), dwls_map_finetune, yerr=error_dwls_map_finetune, fmt='-d')\n",
    "plt.legend(['baseline (zero estimate)','random initalisation', \"dwls_random\", \"dwls_random_finetune\", 'map initalisation', \"dwls_map_initalisaiton\", \"dwls_map_finetune\"])\n",
    "plt.show()"
   ]
  },
  {
   "cell_type": "markdown",
   "metadata": {},
   "source": [
    "# Denoising"
   ]
  },
  {
   "cell_type": "code",
   "execution_count": null,
   "metadata": {},
   "outputs": [],
   "source": [
    "config[\"operator_params\"][\"operator\"] = \"GuassianNoise\"\n",
    "config[\"operator_params\"][\"noise_level\"] = 0.5\n",
    "config['estimator_params']['lambda'] = 1\n",
    "config['estimator_params']['potential'] = \"mse\"\n",
    "config[\"base_model_params\"][\"base_model\"] = \"vae\""
   ]
  },
  {
   "cell_type": "markdown",
   "metadata": {},
   "source": [
    "## Random"
   ]
  },
  {
   "cell_type": "code",
   "execution_count": null,
   "metadata": {},
   "outputs": [],
   "source": [
    "config[\"estimator_params\"][\"initalisation\"] = \"random\""
   ]
  },
  {
   "cell_type": "code",
   "execution_count": null,
   "metadata": {},
   "outputs": [
    {
     "name": "stderr",
     "output_type": "stream",
     "text": [
      "100%|██████████| 16/16 [01:28<00:00,  5.52s/it]\n"
     ]
    }
   ],
   "source": [
    "random = []\n",
    "error_random = []\n",
    "for num in trange(0, 16):\n",
    "    config[\"operator_params\"][\"noise_level\"] = num/15\n",
    "    ebm = make_energy_model(config, path=path)\n",
    "    ebm = ebm.to(\"cuda\")\n",
    "    error = []\n",
    "    for x, y in dm:\n",
    "        x = x.to(\"cuda\")\n",
    "        x_tilde = ebm.operator(x)\n",
    "        x_hat = ebm(x_tilde)\n",
    "        error.append(reconstruction_error(x_hat, x))\n",
    "    e_x = (sum(error)/len(error)).cpu().detach()\n",
    "    e_x2 = (sum(map(lambda x: x**2, error))/len(error)).cpu().detach()\n",
    "    std = np.sqrt(e_x2 - (e_x)**2)\n",
    "    random.append(e_x)\n",
    "    error_random.append(std)"
   ]
  },
  {
   "cell_type": "markdown",
   "metadata": {},
   "source": [
    "## MAP-posterior"
   ]
  },
  {
   "cell_type": "code",
   "execution_count": null,
   "metadata": {},
   "outputs": [],
   "source": [
    "config[\"estimator_params\"][\"initalisation\"] = \"map_posterior\"\n",
    "config[\"estimator_params\"][\"num_steps_map_initaliser\"] = 100\n",
    "config[\"estimator_params\"][\"step_size_map_initaliser\"] = 0.1"
   ]
  },
  {
   "cell_type": "code",
   "execution_count": null,
   "metadata": {},
   "outputs": [
    {
     "name": "stderr",
     "output_type": "stream",
     "text": [
      "100%|██████████| 16/16 [08:11<00:00, 30.72s/it]\n"
     ]
    }
   ],
   "source": [
    "map_posterior = []\n",
    "error_map_posterior = []\n",
    "for num in trange(0, 16):\n",
    "    config[\"operator_params\"][\"noise_level\"] = num/15\n",
    "    ebm = make_energy_model(config, path=path)\n",
    "    emb = ebm.to(\"cuda\")\n",
    "    error = []\n",
    "    for x, y in dm:\n",
    "        x = x.to(\"cuda\")\n",
    "        x_tilde = ebm.operator(x)\n",
    "        x_hat = ebm(x_tilde)\n",
    "        error.append(reconstruction_error(x_hat, x))\n",
    "    e_x = (sum(error)/len(error)).cpu().detach()\n",
    "    e_x2 = (sum(map(lambda x: x**2, error))/len(error)).cpu().detach()\n",
    "    std = np.sqrt(e_x2 - (e_x)**2)\n",
    "    map_posterior.append(e_x)\n",
    "    error_map_posterior.append(std)"
   ]
  },
  {
   "cell_type": "markdown",
   "metadata": {},
   "source": [
    "## DWLS-random"
   ]
  },
  {
   "cell_type": "code",
   "execution_count": null,
   "metadata": {},
   "outputs": [],
   "source": [
    "config['estimator_params']['potential'] = \"discriminator_weighted\"\n",
    "config['estimator_params']['lambda'] = 1\n",
    "config['estimator_params']['lambda_score'] = 1\n",
    "config['estimator_params']['discriminator_base_model'] = \"mnist/gan/dcgan\"\n",
    "config[\"estimator_params\"][\"initalisation\"] = \"random\""
   ]
  },
  {
   "cell_type": "code",
   "execution_count": null,
   "metadata": {},
   "outputs": [
    {
     "name": "stderr",
     "output_type": "stream",
     "text": [
      "100%|██████████| 16/16 [03:33<00:00, 13.35s/it]\n"
     ]
    }
   ],
   "source": [
    "dwls_random = []\n",
    "error_dwls_random = []\n",
    "for num in trange(0, 16):\n",
    "    config[\"operator_params\"][\"noise_level\"] = num/15\n",
    "    ebm = make_energy_model(config, path=path)\n",
    "    ebm = ebm.to(\"cuda\")\n",
    "    ebm.kwargs[\"discriminator\"].to(\"cuda\")\n",
    "    error = []\n",
    "    for x, y in dm:\n",
    "        x = x.to(\"cuda\")\n",
    "        x_tilde = ebm.operator(x)\n",
    "        x_hat = ebm(x_tilde)\n",
    "        error.append(reconstruction_error(x_hat, x))\n",
    "    e_x = (sum(error)/len(error)).cpu().detach()\n",
    "    e_x2 = (sum(map(lambda x: x**2, error))/len(error)).cpu().detach()\n",
    "    std = np.sqrt(e_x2 - (e_x)**2)\n",
    "    dwls_random.append(e_x)\n",
    "    error_dwls_random.append(std)"
   ]
  },
  {
   "cell_type": "markdown",
   "metadata": {},
   "source": [
    "## DWLS-random-finetune"
   ]
  },
  {
   "cell_type": "code",
   "execution_count": null,
   "metadata": {},
   "outputs": [],
   "source": [
    "config['estimator_params']['potential'] = \"discriminator_weighted\"\n",
    "config['estimator_params']['lambda'] = 1\n",
    "config['estimator_params']['lambda_score'] = 1\n",
    "config['estimator_params']['discriminator_base_model'] = \"mnist/gan/dcgan\"\n",
    "config[\"estimator_params\"][\"initalisation\"] = \"random\"\n",
    "config[\"estimator_params\"][\"num_steps_finetune\"] = 5\n",
    "config[\"estimator_params\"][\"num_samples_for_finetune\"] = 1000"
   ]
  },
  {
   "cell_type": "code",
   "execution_count": null,
   "metadata": {},
   "outputs": [],
   "source": [
    "dwls_random_finetune = []\n",
    "error_dwls_random_finetune = []\n",
    "for num in trange(0, 16):\n",
    "    config[\"operator_params\"][\"noise_level\"] = num/15\n",
    "    ebm = make_energy_model(config, path=path)\n",
    "    ebm = ebm.to(\"cuda\")\n",
    "    ebm.kwargs[\"discriminator\"].to(\"cuda\")\n",
    "    error = []\n",
    "    for x, y in dm:\n",
    "        x = x.to(\"cuda\")\n",
    "        x_tilde = ebm.operator(x)\n",
    "        x_hat = ebm(x_tilde)\n",
    "        error.append(reconstruction_error(x_hat, x))\n",
    "    e_x = (sum(error)/len(error)).cpu().detach()\n",
    "    e_x2 = (sum(map(lambda x: x**2, error))/len(error)).cpu().detach()\n",
    "    std = np.sqrt(e_x2 - (e_x)**2)\n",
    "    dwls_random_finetune.append(e_x)\n",
    "    error_dwls_random_finetune.append(std)"
   ]
  },
  {
   "cell_type": "markdown",
   "metadata": {},
   "source": [
    "## DWLS-map-initalisation"
   ]
  },
  {
   "cell_type": "code",
   "execution_count": null,
   "metadata": {},
   "outputs": [],
   "source": [
    "config['estimator_params']['potential'] = \"discriminator_weighted\"\n",
    "config['estimator_params']['lambda'] = 1\n",
    "config['estimator_params']['lambda_score'] = 5\n",
    "config['estimator_params']['discriminator_base_model'] = \"mnist/gan/dcgan\"\n",
    "config[\"estimator_params\"][\"initalisation\"] = \"map_posterior\"\n",
    "config[\"estimator_params\"][\"num_steps_map_initaliser\"] = 100\n",
    "config[\"estimator_params\"][\"step_size_map_initaliser\"] = 0.1\n",
    "del config[\"estimator_params\"][\"num_steps_finetune\"]\n",
    "del config[\"estimator_params\"][\"num_samples_for_finetune\"]"
   ]
  },
  {
   "cell_type": "code",
   "execution_count": null,
   "metadata": {},
   "outputs": [
    {
     "name": "stderr",
     "output_type": "stream",
     "text": [
      "100%|██████████| 16/16 [10:07<00:00, 37.99s/it]\n"
     ]
    }
   ],
   "source": [
    "dwls_map = []\n",
    "error_dwls_map = []\n",
    "for num in trange(0, 16):\n",
    "    config[\"operator_params\"][\"noise_level\"] = num/15\n",
    "    ebm = make_energy_model(config, path=path)\n",
    "    ebm = ebm.to(\"cuda\")\n",
    "    ebm.kwargs[\"discriminator\"].to(\"cuda\")\n",
    "    error = []\n",
    "    for x, y in dm:\n",
    "        x = x.to(\"cuda\")\n",
    "        x_tilde = ebm.operator(x)\n",
    "        x_hat = ebm(x_tilde)\n",
    "        error.append(reconstruction_error(x_hat, x))\n",
    "    e_x = (sum(error)/len(error)).cpu().detach()\n",
    "    e_x2 = (sum(map(lambda x: x**2, error))/len(error)).cpu().detach()\n",
    "    std = np.sqrt(e_x2 - (e_x)**2)\n",
    "    dwls_map.append(e_x)\n",
    "    error_dwls_map.append(std)"
   ]
  },
  {
   "cell_type": "markdown",
   "metadata": {},
   "source": [
    "## DWLS-map-posterior-finetune"
   ]
  },
  {
   "cell_type": "code",
   "execution_count": null,
   "metadata": {},
   "outputs": [],
   "source": [
    "config['estimator_params']['potential'] = \"discriminator_weighted\"\n",
    "config['estimator_params']['lambda'] = 1\n",
    "config['estimator_params']['lambda_score'] = 5\n",
    "config['estimator_params']['discriminator_base_model'] = \"mnist/gan/dcgan\"\n",
    "config[\"estimator_params\"][\"initalisation\"] = \"map_posterior\"\n",
    "config[\"estimator_params\"][\"num_steps_map_initaliser\"] = 100\n",
    "config[\"estimator_params\"][\"step_size_map_initaliser\"] = 0.1\n",
    "config[\"estimator_params\"][\"num_steps_finetune\"] = 5\n",
    "config[\"estimator_params\"][\"num_samples_for_finetune\"] = 1000"
   ]
  },
  {
   "cell_type": "code",
   "execution_count": null,
   "metadata": {},
   "outputs": [
    {
     "name": "stderr",
     "output_type": "stream",
     "text": [
      "  0%|          | 0/16 [00:02<?, ?it/s]\n"
     ]
    },
    {
     "ename": "KeyboardInterrupt",
     "evalue": "",
     "output_type": "error",
     "traceback": [
      "\u001b[0;31m---------------------------------------------------------------------------\u001b[0m",
      "\u001b[0;31mKeyboardInterrupt\u001b[0m                         Traceback (most recent call last)",
      "\u001b[0;32m<ipython-input-59-5d13ce43eaa8>\u001b[0m in \u001b[0;36m<module>\u001b[0;34m\u001b[0m\n\u001b[1;32m     10\u001b[0m         \u001b[0mx\u001b[0m \u001b[0;34m=\u001b[0m \u001b[0mx\u001b[0m\u001b[0;34m.\u001b[0m\u001b[0mto\u001b[0m\u001b[0;34m(\u001b[0m\u001b[0;34m\"cuda\"\u001b[0m\u001b[0;34m)\u001b[0m\u001b[0;34m\u001b[0m\u001b[0;34m\u001b[0m\u001b[0m\n\u001b[1;32m     11\u001b[0m         \u001b[0mx_tilde\u001b[0m \u001b[0;34m=\u001b[0m \u001b[0mebm\u001b[0m\u001b[0;34m.\u001b[0m\u001b[0moperator\u001b[0m\u001b[0;34m(\u001b[0m\u001b[0mx\u001b[0m\u001b[0;34m)\u001b[0m\u001b[0;34m\u001b[0m\u001b[0;34m\u001b[0m\u001b[0m\n\u001b[0;32m---> 12\u001b[0;31m         \u001b[0mx_hat\u001b[0m \u001b[0;34m=\u001b[0m \u001b[0mebm\u001b[0m\u001b[0;34m(\u001b[0m\u001b[0mx_tilde\u001b[0m\u001b[0;34m)\u001b[0m\u001b[0;34m\u001b[0m\u001b[0;34m\u001b[0m\u001b[0m\n\u001b[0m\u001b[1;32m     13\u001b[0m         \u001b[0merror\u001b[0m\u001b[0;34m.\u001b[0m\u001b[0mappend\u001b[0m\u001b[0;34m(\u001b[0m\u001b[0mreconstruction_error\u001b[0m\u001b[0;34m(\u001b[0m\u001b[0mx_hat\u001b[0m\u001b[0;34m,\u001b[0m \u001b[0mx\u001b[0m\u001b[0;34m)\u001b[0m\u001b[0;34m)\u001b[0m\u001b[0;34m\u001b[0m\u001b[0;34m\u001b[0m\u001b[0m\n\u001b[1;32m     14\u001b[0m     \u001b[0me_x\u001b[0m \u001b[0;34m=\u001b[0m \u001b[0;34m(\u001b[0m\u001b[0msum\u001b[0m\u001b[0;34m(\u001b[0m\u001b[0merror\u001b[0m\u001b[0;34m)\u001b[0m\u001b[0;34m/\u001b[0m\u001b[0mlen\u001b[0m\u001b[0;34m(\u001b[0m\u001b[0merror\u001b[0m\u001b[0;34m)\u001b[0m\u001b[0;34m)\u001b[0m\u001b[0;34m.\u001b[0m\u001b[0mcpu\u001b[0m\u001b[0;34m(\u001b[0m\u001b[0;34m)\u001b[0m\u001b[0;34m.\u001b[0m\u001b[0mdetach\u001b[0m\u001b[0;34m(\u001b[0m\u001b[0;34m)\u001b[0m\u001b[0;34m\u001b[0m\u001b[0;34m\u001b[0m\u001b[0m\n",
      "\u001b[0;32m~/anaconda3/envs/dgflowenv/lib/python3.7/site-packages/torch/nn/modules/module.py\u001b[0m in \u001b[0;36m_call_impl\u001b[0;34m(self, *input, **kwargs)\u001b[0m\n\u001b[1;32m   1049\u001b[0m         if not (self._backward_hooks or self._forward_hooks or self._forward_pre_hooks or _global_backward_hooks\n\u001b[1;32m   1050\u001b[0m                 or _global_forward_hooks or _global_forward_pre_hooks):\n\u001b[0;32m-> 1051\u001b[0;31m             \u001b[0;32mreturn\u001b[0m \u001b[0mforward_call\u001b[0m\u001b[0;34m(\u001b[0m\u001b[0;34m*\u001b[0m\u001b[0minput\u001b[0m\u001b[0;34m,\u001b[0m \u001b[0;34m**\u001b[0m\u001b[0mkwargs\u001b[0m\u001b[0;34m)\u001b[0m\u001b[0;34m\u001b[0m\u001b[0;34m\u001b[0m\u001b[0m\n\u001b[0m\u001b[1;32m   1052\u001b[0m         \u001b[0;31m# Do not call functions when jit is used\u001b[0m\u001b[0;34m\u001b[0m\u001b[0;34m\u001b[0m\u001b[0;34m\u001b[0m\u001b[0m\n\u001b[1;32m   1053\u001b[0m         \u001b[0mfull_backward_hooks\u001b[0m\u001b[0;34m,\u001b[0m \u001b[0mnon_full_backward_hooks\u001b[0m \u001b[0;34m=\u001b[0m \u001b[0;34m[\u001b[0m\u001b[0;34m]\u001b[0m\u001b[0;34m,\u001b[0m \u001b[0;34m[\u001b[0m\u001b[0;34m]\u001b[0m\u001b[0;34m\u001b[0m\u001b[0;34m\u001b[0m\u001b[0m\n",
      "\u001b[0;32m~/discriminator-weighted-sampling/experiment.py\u001b[0m in \u001b[0;36mforward\u001b[0;34m(self, y)\u001b[0m\n\u001b[1;32m    395\u001b[0m \u001b[0;34m\u001b[0m\u001b[0m\n\u001b[1;32m    396\u001b[0m     \u001b[0;32mdef\u001b[0m \u001b[0mforward\u001b[0m\u001b[0;34m(\u001b[0m\u001b[0mself\u001b[0m\u001b[0;34m,\u001b[0m \u001b[0my\u001b[0m\u001b[0;34m)\u001b[0m\u001b[0;34m:\u001b[0m\u001b[0;34m\u001b[0m\u001b[0;34m\u001b[0m\u001b[0m\n\u001b[0;32m--> 397\u001b[0;31m         \u001b[0mz\u001b[0m \u001b[0;34m=\u001b[0m \u001b[0mself\u001b[0m\u001b[0;34m.\u001b[0m\u001b[0mget_latent_estimate\u001b[0m\u001b[0;34m(\u001b[0m\u001b[0my\u001b[0m\u001b[0;34m)\u001b[0m\u001b[0;34m\u001b[0m\u001b[0;34m\u001b[0m\u001b[0m\n\u001b[0m\u001b[1;32m    398\u001b[0m         \u001b[0mimgs\u001b[0m \u001b[0;34m=\u001b[0m \u001b[0mself\u001b[0m\u001b[0;34m.\u001b[0m\u001b[0mmodel\u001b[0m\u001b[0;34m.\u001b[0m\u001b[0mdecode\u001b[0m\u001b[0;34m(\u001b[0m\u001b[0mz\u001b[0m\u001b[0;34m)\u001b[0m\u001b[0;34m\u001b[0m\u001b[0;34m\u001b[0m\u001b[0m\n\u001b[1;32m    399\u001b[0m         \u001b[0;32mreturn\u001b[0m \u001b[0mimgs\u001b[0m\u001b[0;34m\u001b[0m\u001b[0;34m\u001b[0m\u001b[0m\n",
      "\u001b[0;32m~/discriminator-weighted-sampling/experiment.py\u001b[0m in \u001b[0;36mget_latent_estimate\u001b[0;34m(self, y)\u001b[0m\n\u001b[1;32m    439\u001b[0m             \u001b[0;32mreturn\u001b[0m \u001b[0mz\u001b[0m \u001b[0;34m-\u001b[0m \u001b[0mself\u001b[0m\u001b[0;34m.\u001b[0m\u001b[0mconfig\u001b[0m\u001b[0;34m[\u001b[0m\u001b[0;34m\"estimator_params\"\u001b[0m\u001b[0;34m]\u001b[0m\u001b[0;34m[\u001b[0m\u001b[0;34m\"denoise_step_size\"\u001b[0m\u001b[0;34m]\u001b[0m \u001b[0;34m*\u001b[0m \u001b[0mscore_fn\u001b[0m\u001b[0;34m(\u001b[0m\u001b[0mpotential\u001b[0m\u001b[0;34m,\u001b[0m \u001b[0mz\u001b[0m\u001b[0;34m)\u001b[0m\u001b[0;34m\u001b[0m\u001b[0;34m\u001b[0m\u001b[0m\n\u001b[1;32m    440\u001b[0m \u001b[0;34m\u001b[0m\u001b[0m\n\u001b[0;32m--> 441\u001b[0;31m         \u001b[0mz\u001b[0m \u001b[0;34m=\u001b[0m \u001b[0meval\u001b[0m\u001b[0;34m(\u001b[0m\u001b[0;34mf\"self.get_{self.config['estimator_params']['initalisation']}_inital_latent_vector(y)\"\u001b[0m\u001b[0;34m)\u001b[0m\u001b[0;34m\u001b[0m\u001b[0;34m\u001b[0m\u001b[0m\n\u001b[0m\u001b[1;32m    442\u001b[0m         \u001b[0mz\u001b[0m \u001b[0;34m=\u001b[0m \u001b[0meval\u001b[0m\u001b[0;34m(\u001b[0m\u001b[0;34mf\"get_{self.config['estimator_params']['mode']}_estimator(z)\"\u001b[0m\u001b[0;34m)\u001b[0m\u001b[0;34m\u001b[0m\u001b[0;34m\u001b[0m\u001b[0m\n\u001b[1;32m    443\u001b[0m         \u001b[0;32mreturn\u001b[0m \u001b[0mz\u001b[0m\u001b[0;34m\u001b[0m\u001b[0;34m\u001b[0m\u001b[0m\n",
      "\u001b[0;32m~/discriminator-weighted-sampling/experiment.py\u001b[0m in \u001b[0;36m<module>\u001b[0;34m\u001b[0m\n",
      "\u001b[0;32m~/discriminator-weighted-sampling/experiment.py\u001b[0m in \u001b[0;36mget_map_posterior_inital_latent_vector\u001b[0;34m(self, x)\u001b[0m\n\u001b[1;32m    484\u001b[0m \u001b[0;34m\u001b[0m\u001b[0m\n\u001b[1;32m    485\u001b[0m     \u001b[0;32mdef\u001b[0m \u001b[0mget_map_posterior_inital_latent_vector\u001b[0m\u001b[0;34m(\u001b[0m\u001b[0mself\u001b[0m\u001b[0;34m,\u001b[0m \u001b[0mx\u001b[0m\u001b[0;34m)\u001b[0m\u001b[0;34m:\u001b[0m\u001b[0;34m\u001b[0m\u001b[0;34m\u001b[0m\u001b[0m\n\u001b[0;32m--> 486\u001b[0;31m         \u001b[0mz_hat\u001b[0m \u001b[0;34m=\u001b[0m \u001b[0mself\u001b[0m\u001b[0;34m.\u001b[0m\u001b[0mget_map_estimate_inital_latent_vector\u001b[0m\u001b[0;34m(\u001b[0m\u001b[0mx\u001b[0m\u001b[0;34m)\u001b[0m\u001b[0;34m\u001b[0m\u001b[0;34m\u001b[0m\u001b[0m\n\u001b[0m\u001b[1;32m    487\u001b[0m         \u001b[0mx_hat\u001b[0m \u001b[0;34m=\u001b[0m \u001b[0mself\u001b[0m\u001b[0;34m.\u001b[0m\u001b[0mmodel\u001b[0m\u001b[0;34m.\u001b[0m\u001b[0mdecode\u001b[0m\u001b[0;34m(\u001b[0m\u001b[0mz_hat\u001b[0m\u001b[0;34m)\u001b[0m\u001b[0;34m\u001b[0m\u001b[0;34m\u001b[0m\u001b[0m\n\u001b[1;32m    488\u001b[0m         \u001b[0mz\u001b[0m \u001b[0;34m=\u001b[0m \u001b[0mself\u001b[0m\u001b[0;34m.\u001b[0m\u001b[0mget_posterior_inital_latent_vector\u001b[0m\u001b[0;34m(\u001b[0m\u001b[0mx_hat\u001b[0m\u001b[0;34m)\u001b[0m\u001b[0;34m\u001b[0m\u001b[0;34m\u001b[0m\u001b[0m\n",
      "\u001b[0;32m~/discriminator-weighted-sampling/experiment.py\u001b[0m in \u001b[0;36mget_map_estimate_inital_latent_vector\u001b[0;34m(self, x)\u001b[0m\n\u001b[1;32m    479\u001b[0m         \u001b[0mstep_size\u001b[0m \u001b[0;34m=\u001b[0m \u001b[0mself\u001b[0m\u001b[0;34m.\u001b[0m\u001b[0mconfig\u001b[0m\u001b[0;34m[\u001b[0m\u001b[0;34m\"estimator_params\"\u001b[0m\u001b[0;34m]\u001b[0m\u001b[0;34m[\u001b[0m\u001b[0;34m\"step_size_map_initaliser\"\u001b[0m\u001b[0;34m]\u001b[0m\u001b[0;34m\u001b[0m\u001b[0;34m\u001b[0m\u001b[0m\n\u001b[1;32m    480\u001b[0m         \u001b[0;32mfor\u001b[0m \u001b[0m_\u001b[0m \u001b[0;32min\u001b[0m \u001b[0mrange\u001b[0m\u001b[0;34m(\u001b[0m\u001b[0mn\u001b[0m\u001b[0;34m)\u001b[0m\u001b[0;34m:\u001b[0m\u001b[0;34m\u001b[0m\u001b[0;34m\u001b[0m\u001b[0m\n\u001b[0;32m--> 481\u001b[0;31m             \u001b[0mgrad\u001b[0m \u001b[0;34m=\u001b[0m \u001b[0mscore_fn\u001b[0m\u001b[0;34m(\u001b[0m\u001b[0mpotential\u001b[0m\u001b[0;34m,\u001b[0m \u001b[0mz\u001b[0m\u001b[0;34m)\u001b[0m\u001b[0;34m\u001b[0m\u001b[0;34m\u001b[0m\u001b[0m\n\u001b[0m\u001b[1;32m    482\u001b[0m             \u001b[0mz\u001b[0m \u001b[0;34m=\u001b[0m \u001b[0mz\u001b[0m\u001b[0;34m.\u001b[0m\u001b[0mdetach\u001b[0m\u001b[0;34m(\u001b[0m\u001b[0;34m)\u001b[0m \u001b[0;34m-\u001b[0m \u001b[0mstep_size\u001b[0m \u001b[0;34m*\u001b[0m \u001b[0mgrad\u001b[0m\u001b[0;34m\u001b[0m\u001b[0;34m\u001b[0m\u001b[0m\n\u001b[1;32m    483\u001b[0m         \u001b[0;32mreturn\u001b[0m \u001b[0mz\u001b[0m\u001b[0;34m\u001b[0m\u001b[0;34m\u001b[0m\u001b[0m\n",
      "\u001b[0;32m~/discriminator-weighted-sampling/src/sampling.py\u001b[0m in \u001b[0;36mscore_fn\u001b[0;34m(potential, Zi)\u001b[0m\n\u001b[1;32m     11\u001b[0m     \u001b[0mu\u001b[0m \u001b[0;34m=\u001b[0m \u001b[0mpotential\u001b[0m\u001b[0;34m(\u001b[0m\u001b[0mZi\u001b[0m\u001b[0;34m)\u001b[0m\u001b[0;34m.\u001b[0m\u001b[0mmean\u001b[0m\u001b[0;34m(\u001b[0m\u001b[0;34m)\u001b[0m\u001b[0;34m\u001b[0m\u001b[0;34m\u001b[0m\u001b[0m\n\u001b[1;32m     12\u001b[0m     \u001b[0;31m#print(u)\u001b[0m\u001b[0;34m\u001b[0m\u001b[0;34m\u001b[0m\u001b[0;34m\u001b[0m\u001b[0m\n\u001b[0;32m---> 13\u001b[0;31m     \u001b[0mgrad\u001b[0m \u001b[0;34m=\u001b[0m \u001b[0mtorch\u001b[0m\u001b[0;34m.\u001b[0m\u001b[0mautograd\u001b[0m\u001b[0;34m.\u001b[0m\u001b[0mgrad\u001b[0m\u001b[0;34m(\u001b[0m\u001b[0mu\u001b[0m\u001b[0;34m,\u001b[0m \u001b[0mZi\u001b[0m\u001b[0;34m)\u001b[0m\u001b[0;34m[\u001b[0m\u001b[0;36m0\u001b[0m\u001b[0;34m]\u001b[0m\u001b[0;34m\u001b[0m\u001b[0;34m\u001b[0m\u001b[0m\n\u001b[0m\u001b[1;32m     14\u001b[0m     \u001b[0;32mreturn\u001b[0m \u001b[0mgrad\u001b[0m\u001b[0;34m\u001b[0m\u001b[0;34m\u001b[0m\u001b[0m\n\u001b[1;32m     15\u001b[0m \u001b[0;34m\u001b[0m\u001b[0m\n",
      "\u001b[0;32m~/anaconda3/envs/dgflowenv/lib/python3.7/site-packages/torch/autograd/__init__.py\u001b[0m in \u001b[0;36mgrad\u001b[0;34m(outputs, inputs, grad_outputs, retain_graph, create_graph, only_inputs, allow_unused)\u001b[0m\n\u001b[1;32m    226\u001b[0m     return Variable._execution_engine.run_backward(\n\u001b[1;32m    227\u001b[0m         \u001b[0moutputs\u001b[0m\u001b[0;34m,\u001b[0m \u001b[0mgrad_outputs_\u001b[0m\u001b[0;34m,\u001b[0m \u001b[0mretain_graph\u001b[0m\u001b[0;34m,\u001b[0m \u001b[0mcreate_graph\u001b[0m\u001b[0;34m,\u001b[0m\u001b[0;34m\u001b[0m\u001b[0;34m\u001b[0m\u001b[0m\n\u001b[0;32m--> 228\u001b[0;31m         inputs, allow_unused, accumulate_grad=False)\n\u001b[0m\u001b[1;32m    229\u001b[0m \u001b[0;34m\u001b[0m\u001b[0m\n\u001b[1;32m    230\u001b[0m \u001b[0;34m\u001b[0m\u001b[0m\n",
      "\u001b[0;31mKeyboardInterrupt\u001b[0m: "
     ]
    }
   ],
   "source": [
    "dwls_map_finetune = []\n",
    "error_dwls_map_finetune = []\n",
    "for num in trange(0, 16):\n",
    "    config[\"operator_params\"][\"noise_level\"] = num/15\n",
    "    ebm = make_energy_model(config, path=path)\n",
    "    ebm = ebm.to(\"cuda\")\n",
    "    ebm.kwargs[\"discriminator\"].to(\"cuda\")\n",
    "    error = []\n",
    "    for x, y in dm:\n",
    "        x = x.to(\"cuda\")\n",
    "        x_tilde = ebm.operator(x)\n",
    "        x_hat = ebm(x_tilde)\n",
    "        error.append(reconstruction_error(x_hat, x))\n",
    "    e_x = (sum(error)/len(error)).cpu().detach()\n",
    "    e_x2 = (sum(map(lambda x: x**2, error))/len(error)).cpu().detach()\n",
    "    std = np.sqrt(e_x2 - (e_x)**2)\n",
    "    dwls_map_finetune.append(e_x)\n",
    "    error_dwls_map_finetune.append(std)"
   ]
  },
  {
   "cell_type": "code",
   "execution_count": null,
   "metadata": {},
   "outputs": [],
   "source": [
    "error = []\n",
    "for x, y in dm:\n",
    "    x = x.to(\"cuda\")\n",
    "    error.append(reconstruction_error(torch.zeros_like(x), x))\n",
    "baseline = (sum(error)/len(error)).cpu().detach()"
   ]
  },
  {
   "cell_type": "code",
   "execution_count": null,
   "metadata": {},
   "outputs": [
    {
     "data": {
      "image/png": "[encoded data removed]",
      "text/plain": [
       "<Figure size 640x480 with 1 Axes>"
      ]
     },
     "metadata": {},
     "output_type": "display_data"
    }
   ],
   "source": [
    "plt.xlabel('Noise Level', fontsize=15)\n",
    "plt.ylabel('Reconstruction error (per pixel)', fontsize=15)\n",
    "plt.ylim(0, 0.15)\n",
    "noise = [i/15.0 for i in range(0, 16)]\n",
    "plt.plot(noise, [baseline]*16)\n",
    "plt.errorbar(noise, random, yerr=error_random, fmt='-o')\n",
    "plt.errorbar(noise, dwls_random, yerr=error_dwls_random, fmt='-^')\n",
    "plt.errorbar(noise, dwls_random_finetune, yerr=error_dwls_random, fmt='-x')\n",
    "plt.errorbar(noise, map_posterior, yerr=error_map_posterior, fmt='-s')\n",
    "plt.errorbar(noise, dwls_map, yerr=error_dwls_map, fmt='-*')\n",
    "plt.errorbar(noise, dwls_map_finetune, yerr=error_dwls_map_finetune, fmt='-d')\n",
    "plt.legend(['baseline (zero estimate)','random initalisation', \"dwls_random\", \"dwls_random_finetune\", 'map initalisation', \"dwls_map_initalisaiton\", \"dwls_map_finetune\"])\n",
    "plt.show()"
   ]
  },
  {
   "cell_type": "code",
   "execution_count": null,
   "metadata": {},
   "outputs": [],
   "source": []
  }
 ],
 "metadata": {
  "interpreter": {
   "hash": "67ebdc3d7c5b8aee60e0976b3f0ba5a9f39f0ef6024b87b4abda2f48caa7c7ff"
  },
  "kernelspec": {
   "display_name": "Python 3.7.11 64-bit ('dgflowenv': conda)",
   "name": "python3"
  },
  "language_info": {
   "codemirror_mode": {
    "name": "ipython",
    "version": 3
   },
   "file_extension": ".py",
   "mimetype": "text/x-python",
   "name": "python",
   "nbconvert_exporter": "python",
   "pygments_lexer": "ipython3",
   "version": "3.7.11"
  },
  "orig_nbformat": 4
 },
 "nbformat": 4,
 "nbformat_minor": 2
}
