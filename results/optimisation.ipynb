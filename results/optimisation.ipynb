{
 "cells": [
  {
   "cell_type": "code",
   "execution_count": 1,
   "metadata": {},
   "outputs": [],
   "source": [
    "import sys\n",
    "sys.path.append(\"..\")\n",
    "\n",
    "import torch\n",
    "import numpy as np\n",
    "import matplotlib.pyplot as plt\n",
    "from einops import rearrange, reduce\n",
    "from tqdm import tqdm, trange\n",
    "from torch.nn import functional as F\n",
    "from utils.download_mnist import modified_mnist_dataloader_test, modified_mnist_dataloader_train, mnist_dataloader_train, multi_mnist_dataloader_test, multi_mnist_dataloader_train, multi_two_mnist_dataloader_train,  multi_two_mnist_dataloader_test\n",
    "from assembler import get_config, get_config_ebm, make_energy_model\n",
    "from utils.config import show \n",
    "from experiment import OptiEBM\n",
    "\n",
    "path = !cd .. && pwd\n",
    "path = path[0]\n",
    "\n",
    "def plotable(img):\n",
    "    return rearrange(img, \"b c h w -> (b c h) w \").cpu().detach().numpy()\n",
    "\n",
    "def make_adaptive_experiment(config):\n",
    "    ebm = make_energy_model(config, path=path)\n",
    "    ebm = ebm.to(\"cuda\")\n",
    "    adapt = OptiEBM(config, ebm)\n",
    "    return adapt\n",
    "\n",
    "def get_model_config(model_name):\n",
    "    dataset, model, sampling, task = model_name.split(\"/\")\n",
    "    name = f\"{sampling}/{task}\"\n",
    "    config = get_config(get_config_ebm, dataset, model, name, path=path)\n",
    "    return config\n",
    "\n",
    "def pixelwise_varaince(imgs):\n",
    "    ex = reduce(imgs, \"b h w -> h w\", \"mean\")\n",
    "    ex2 = reduce(imgs**2, \"b h w -> h w\", \"mean\")\n",
    "    return ex2 - ex**2\n",
    "\n",
    "def reconstruction_error(x_hat, x, reduction=\"mean\"):\n",
    "    return F.mse_loss(x_hat, x, reduction=reduction)"
   ]
  },
  {
   "cell_type": "code",
   "execution_count": 2,
   "metadata": {},
   "outputs": [],
   "source": [
    "model_name = \"multi_two_mnist/vae/langvein/inpainting\"\n",
    "config = get_model_config(model_name)"
   ]
  },
  {
   "cell_type": "code",
   "execution_count": 3,
   "metadata": {},
   "outputs": [
    {
     "name": "stderr",
     "output_type": "stream",
     "text": [
      "/home/mingliang/anaconda3/envs/dgflowenv/lib/python3.7/site-packages/torchvision/datasets/mnist.py:498: UserWarning: The given NumPy array is not writeable, and PyTorch does not support non-writeable tensors. This means you can write to the underlying (supposedly non-writeable) NumPy array using the tensor. You may want to copy the array to protect its data or make it writeable before converting it to a tensor. This type of warning will be suppressed for the rest of this program. (Triggered internally at  /opt/conda/conda-bld/pytorch_1623448265233/work/torch/csrc/utils/tensor_numpy.cpp:180.)\n",
      "  return torch.from_numpy(parsed.astype(m[2], copy=False)).view(*s)\n"
     ]
    }
   ],
   "source": [
    "config[\"exp_params\"][\"batch_size\"] = 1\n",
    "dm = multi_mnist_dataloader_test(config, path=path)\n",
    "gen = iter(dm)"
   ]
  },
  {
   "cell_type": "code",
   "execution_count": 4,
   "metadata": {},
   "outputs": [],
   "source": [
    "config[\"operator_params\"][\"size\"] = 32"
   ]
  },
  {
   "cell_type": "code",
   "execution_count": 5,
   "metadata": {},
   "outputs": [],
   "source": [
    "# The idea here is to first take 100 estimation and then take the avg of all 100 different estimate error for a single image\n",
    "\n",
    "num_time_steps = 20\n",
    "\n",
    "def ucb_iteration(x):\n",
    "    adapt = make_adaptive_experiment(config)\n",
    "    x_tilde = adapt.ebm.operator(x)\n",
    "    out= []\n",
    "    n_samples = 10\n",
    "    for i in range(num_time_steps):\n",
    "        imgs = torch.zeros(n_samples, 32, 32)\n",
    "        x_tilde = adapt.ebm.operator(x)\n",
    "        for num in range(0, n_samples):\n",
    "            x_hat = rearrange(adapt.ebm(x_tilde), \"b c h w -> (b c) h w\")\n",
    "            imgs[num, : , :] = x_hat\n",
    "        ri, A = adapt.ucb_sample(imgs, k=50, num_pixels_per_samples=10)\n",
    "        adapt.update_operator(A)\n",
    "        x_tilde = adapt.ebm.operator(x)\n",
    "        out.append(torch.max(x_tilde).cpu().detach().numpy())\n",
    "    return out\n",
    "\n",
    "# The idea here is to first take 100 estimation and then take the avg of all 100 different estimate error for a single image\n",
    "\n",
    "def thomospon_iteration(x):\n",
    "    adapt = make_adaptive_experiment(config)\n",
    "    x_tilde = adapt.ebm.operator(x)\n",
    "    out = []\n",
    "    n_samples = 10\n",
    "    for i in range(num_time_steps):\n",
    "        imgs = torch.zeros(n_samples, 32, 32)\n",
    "        x_tilde = adapt.ebm.operator(x)\n",
    "        for num in range(0, n_samples):\n",
    "            x_hat = rearrange(adapt.ebm(x_tilde), \"b c h w -> (b c) h w\")\n",
    "            imgs[num, : , :] = x_hat\n",
    "        ri, A = adapt.thomospon_sample(imgs, 10)\n",
    "        adapt.update_operator(A)\n",
    "        x_tilde = adapt.ebm.operator(x)\n",
    "        out.append(torch.max(x_tilde).cpu().detach().numpy())\n",
    "    return out\n",
    "\n",
    "# The idea here is to first take 100 estimation and then take the avg of all 100 different estimate error for a single image\n",
    "\n",
    "def random_pick_iteration(img):\n",
    "    dm = multi_mnist_dataloader_train(config, path=path, shuffle=True)\n",
    "    gen = iter(dm)\n",
    "    config[\"exp_params\"][\"batch_size\"] = 1\n",
    "    out = []\n",
    "    for i in range(num_time_steps):\n",
    "        x, y = next(gen)\n",
    "        x = x.to(\"cuda\")\n",
    "        adapt = make_adaptive_experiment(config)\n",
    "        ri, A = adapt.random_pick_sample(x, 10)\n",
    "        adapt.update_operator(A)\n",
    "        x_tilde = adapt.ebm.operator(img)\n",
    "        if not out:\n",
    "            out.append(torch.max(x_tilde).cpu().detach().numpy())\n",
    "        else:\n",
    "            out.append(max(out[-1], torch.max(x_tilde).cpu().detach().numpy()))\n",
    "    return out\n",
    "\n",
    "def baseline(img):\n",
    "    return torch.max(img).cpu().detach().numpy()\n",
    "    "
   ]
  },
  {
   "cell_type": "code",
   "execution_count": 6,
   "metadata": {},
   "outputs": [
    {
     "name": "stderr",
     "output_type": "stream",
     "text": [
      "  0%|          | 0/25 [00:00<?, ?it/s]/home/mingliang/anaconda3/envs/dgflowenv/lib/python3.7/site-packages/torch/_tensor.py:575: UserWarning: floor_divide is deprecated, and will be removed in a future version of pytorch. It currently rounds toward 0 (like the 'trunc' function NOT 'floor'). This results in incorrect rounding for negative values.\n",
      "To keep the current behavior, use torch.div(a, b, rounding_mode='trunc'), or for actual floor division, use torch.div(a, b, rounding_mode='floor'). (Triggered internally at  /opt/conda/conda-bld/pytorch_1623448265233/work/aten/src/ATen/native/BinaryOps.cpp:467.)\n",
      "  return torch.floor_divide(self, other)\n",
      "100%|██████████| 25/25 [08:24<00:00, 20.20s/it]\n"
     ]
    }
   ],
   "source": [
    "num_runs = 25\n",
    "val = {\"ucb\": [], \"thomospon\": [], \"random\": []}\n",
    "for l in trange(num_runs):\n",
    "    x, y = next(gen)\n",
    "    x = x.to(\"cuda\")\n",
    "    ucb=  ucb_iteration(x)\n",
    "    thomospon = thomospon_iteration(x)\n",
    "    random = random_pick_iteration(x)\n",
    "    max_x = baseline(x)\n",
    "    val[\"ucb\"].append([max_x - i for i in ucb])\n",
    "    val[\"thomospon\"].append([max_x - i for i in thomospon])\n",
    "    val[\"random\"].append([max_x - i for i in random])"
   ]
  },
  {
   "cell_type": "code",
   "execution_count": 7,
   "metadata": {},
   "outputs": [],
   "source": [
    "ucb = np.array(val[\"ucb\"]).mean(axis=0)\n",
    "thomospon = np.array(val[\"thomospon\"]).mean(axis=0)\n",
    "random = np.array(val[\"random\"]).mean(axis=0)\n",
    "ucb_std = np.array(val[\"ucb\"]).std(axis=0)\n",
    "thomospon_std = np.array(val[\"thomospon\"]).std(axis=0)\n",
    "random_std = np.array(val[\"random\"]).std(axis=0)"
   ]
  },
  {
   "cell_type": "code",
   "execution_count": 8,
   "metadata": {},
   "outputs": [
    {
     "data": {
      "image/png": "[encoded data removed]",
      "text/plain": [
       "<Figure size 640x480 with 1 Axes>"
      ]
     },
     "metadata": {},
     "output_type": "display_data"
    }
   ],
   "source": [
    "plt.xlabel('Time Steps', fontsize=15)\n",
    "plt.ylabel('Error', fontsize=15)\n",
    "time_steps = list(range(1, num_time_steps+1))\n",
    "plt.errorbar(time_steps, random, yerr=random_std , fmt='-o')\n",
    "plt.errorbar(time_steps, thomospon, yerr=thomospon_std, fmt='-^')\n",
    "plt.errorbar(time_steps, ucb, yerr=ucb_std, fmt='-x')\n",
    "plt.legend([\"random\", \"thomospon\", \"ucb\"])\n",
    "plt.show()"
   ]
  },
  {
   "cell_type": "code",
   "execution_count": null,
   "metadata": {},
   "outputs": [],
   "source": []
  }
 ],
 "metadata": {
  "interpreter": {
   "hash": "67ebdc3d7c5b8aee60e0976b3f0ba5a9f39f0ef6024b87b4abda2f48caa7c7ff"
  },
  "kernelspec": {
   "display_name": "Python 3.7.11 64-bit ('dgflowenv': conda)",
   "name": "python3"
  },
  "language_info": {
   "codemirror_mode": {
    "name": "ipython",
    "version": 3
   },
   "file_extension": ".py",
   "mimetype": "text/x-python",
   "name": "python",
   "nbconvert_exporter": "python",
   "pygments_lexer": "ipython3",
   "version": "3.7.11"
  },
  "orig_nbformat": 4
 },
 "nbformat": 4,
 "nbformat_minor": 2
}
