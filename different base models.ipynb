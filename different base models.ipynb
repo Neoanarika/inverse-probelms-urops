{
 "cells": [
  {
   "cell_type": "markdown",
   "metadata": {},
   "source": [
    "# Import packages and defining helper function"
   ]
  },
  {
   "cell_type": "code",
   "execution_count": 1,
   "metadata": {},
   "outputs": [],
   "source": [
    "import numpy as np\n",
    "import matplotlib.pyplot as plt\n",
    "from einops import rearrange\n",
    "from utils.download_mnist import mnist_dataloader_test\n",
    "from assembler import get_config, get_config_ebm, make_energy_model\n",
    "from utils.config import show \n",
    "\n",
    "def plotable(img):\n",
    "    return rearrange(img, \"b c h w -> (b c h) w \").cpu().detach().numpy()\n",
    "\n",
    "def get_model_config(model_name):\n",
    "    dataset, model, sampling, task = model_name.split(\"/\")\n",
    "    name = f\"{sampling}/{task}\"\n",
    "    config = get_config(get_config_ebm, dataset, model, name)\n",
    "    return config\n",
    "\n",
    "def experiment(config, x):\n",
    "    ebm = make_energy_model(config)\n",
    "    \n",
    "    # The math\n",
    "    x_tilde = ebm.operator(x)\n",
    "    x_hat = ebm(x_tilde)\n",
    "    \n",
    "    # The result\n",
    "    fig, axs = plt.subplots(nrows = 1, ncols = 3)\n",
    "    axs[0].set_title(\"original\")\n",
    "    axs[0].imshow(plotable(x))\n",
    "    axs[1].set_title(\"occlude\")\n",
    "    axs[1].imshow(plotable(x_tilde))\n",
    "    axs[2].set_title(\"estimation\")\n",
    "    axs[2].imshow(plotable(x_hat))\n",
    "    plt.show()"
   ]
  },
  {
   "cell_type": "code",
   "execution_count": 2,
   "metadata": {},
   "outputs": [
    {
     "name": "stderr",
     "output_type": "stream",
     "text": [
      "/home/mingliang/anaconda3/envs/torch3090/lib/python3.7/site-packages/torchvision/datasets/mnist.py:498: UserWarning: The given NumPy array is not writeable, and PyTorch does not support non-writeable tensors. This means you can write to the underlying (supposedly non-writeable) NumPy array using the tensor. You may want to copy the array to protect its data or make it writeable before converting it to a tensor. This type of warning will be suppressed for the rest of this program. (Triggered internally at  /opt/conda/conda-bld/pytorch_1623448265233/work/torch/csrc/utils/tensor_numpy.cpp:180.)\n",
      "  return torch.from_numpy(parsed.astype(m[2], copy=False)).view(*s)\n"
     ]
    }
   ],
   "source": [
    "model_name = \"mnist/vae/langevin/inpainting\"\n",
    "config = get_model_config(model_name)\n",
    "dm = mnist_dataloader_test(config)\n",
    "gen = iter(dm)"
   ]
  },
  {
   "cell_type": "markdown",
   "metadata": {},
   "source": [
    "# Defining Experimental Params"
   ]
  },
  {
   "cell_type": "code",
   "execution_count": 3,
   "metadata": {},
   "outputs": [
    {
     "name": "stdout",
     "output_type": "stream",
     "text": [
      "operator_params\n",
      "    operator: CenterOcclude\n",
      "    size: 13\n",
      "estimator_params\n",
      "    estimator: langevin\n",
      "    burn_in: 0\n",
      "    n_samples: 15\n",
      "    step_size: 0.01\n",
      "    mode: avg\n",
      "    initalisation: posterior\n",
      "base_model_params\n",
      "    model_name: mnist/vae/vanilla\n"
     ]
    }
   ],
   "source": [
    "show(config)"
   ]
  },
  {
   "cell_type": "markdown",
   "metadata": {},
   "source": [
    "# The experiment "
   ]
  },
  {
   "cell_type": "markdown",
   "metadata": {},
   "source": [
    "## Initalisation used"
   ]
  },
  {
   "cell_type": "code",
   "execution_count": 4,
   "metadata": {},
   "outputs": [],
   "source": [
    "x, y = next(gen)"
   ]
  },
  {
   "cell_type": "markdown",
   "metadata": {},
   "source": [
    "## End Estimator changed"
   ]
  },
  {
   "cell_type": "code",
   "execution_count": 5,
   "metadata": {},
   "outputs": [],
   "source": [
    "config[\"base_model_params\"][\"base_model\"] = \"vae\""
   ]
  },
  {
   "cell_type": "code",
   "execution_count": 6,
   "metadata": {},
   "outputs": [
    {
     "data": {
      "image/png": "[encoded data removed]",
      "text/plain": [
       "<Figure size 432x288 with 3 Axes>"
      ]
     },
     "metadata": {
      "needs_background": "light"
     },
     "output_type": "display_data"
    }
   ],
   "source": [
    "experiment(config, x)"
   ]
  },
  {
   "cell_type": "code",
   "execution_count": 7,
   "metadata": {},
   "outputs": [],
   "source": [
    "config[\"base_model_params\"][\"model_name\"] = \"mnist/gan/dcgan\"\n",
    "config[\"estimator_params\"][\"initalisation\"] = \"random\""
   ]
  },
  {
   "cell_type": "code",
   "execution_count": 8,
   "metadata": {},
   "outputs": [
    {
     "name": "stdout",
     "output_type": "stream",
     "text": [
      "operator_params\n",
      "    operator: CenterOcclude\n",
      "    size: 13\n",
      "estimator_params\n",
      "    estimator: langevin\n",
      "    burn_in: 0\n",
      "    n_samples: 15\n",
      "    step_size: 0.01\n",
      "    mode: avg\n",
      "    initalisation: random\n",
      "base_model_params\n",
      "    model_name: mnist/gan/dcgan\n",
      "    base_model: vae\n"
     ]
    }
   ],
   "source": [
    "show(config)"
   ]
  },
  {
   "cell_type": "code",
   "execution_count": 12,
   "metadata": {},
   "outputs": [
    {
     "name": "stdout",
     "output_type": "stream",
     "text": [
      "make_gans\n"
     ]
    },
    {
     "data": {
      "image/png": "[encoded data removed]",
      "text/plain": [
       "<Figure size 432x288 with 3 Axes>"
      ]
     },
     "metadata": {
      "needs_background": "light"
     },
     "output_type": "display_data"
    }
   ],
   "source": [
    "experiment(config, x)"
   ]
  },
  {
   "cell_type": "code",
   "execution_count": null,
   "metadata": {},
   "outputs": [],
   "source": []
  }
 ],
 "metadata": {
  "interpreter": {
   "hash": "70cf6aaf009a5de79d0c9164f9cd72f71ed7f109548e8202b6e840f3b8b1e73f"
  },
  "kernelspec": {
   "display_name": "dgflowenv",
   "language": "python",
   "name": "dgflowenv"
  },
  "language_info": {
   "codemirror_mode": {
    "name": "ipython",
    "version": 3
   },
   "file_extension": ".py",
   "mimetype": "text/x-python",
   "name": "python",
   "nbconvert_exporter": "python",
   "pygments_lexer": "ipython3",
   "version": "3.7.10"
  }
 },
 "nbformat": 4,
 "nbformat_minor": 2
}
